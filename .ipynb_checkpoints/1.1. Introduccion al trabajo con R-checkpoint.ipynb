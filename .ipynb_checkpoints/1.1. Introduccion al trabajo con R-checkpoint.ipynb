{
 "cells": [
  {
   "cell_type": "markdown",
   "metadata": {},
   "source": [
    "<h1 style=\"font-size:300%;font-family:verdana;color:navy;\">LECCIÓN 1.100 </h1>\n",
    "<h1 style=\"font-size:150%;font-family:verdana;color:navy;\">Introducción al trabajo con R</h1>\n",
    "    \n",
    "***"
   ]
  },
  {
   "cell_type": "markdown",
   "metadata": {},
   "source": [
    "# 1. El trabajo con __R__\n",
    "\n",
    "Probablemente hayas utilizado en otros cursos algún programa estadístico como el SPSS. __R__ es similar a él, pero tiene muchas ventajas adicionales (y también algunos inconvenientes) que te presentaremos a lo largo del curso.\n",
    "\n",
    "Como en cualquier otra asignatura en psicometría tendrás que realizar análisis de datos para entregar tus ejercicios y trabajos, y en este curso hemos decidido utilizar este software. A lo largo de estas lecciones irás aprendiendo a utilizarlo.\n",
    "\n",
    "\n",
    "\n",
    "# 2. Qué es R\n",
    "\n",
    "R es una herramienta de análisis y representación de datos de extraordinaria potencia y un lenguaje de programación completo, lo que permite, virtualmente, hacer casi cualquier cosa.\n",
    "\n",
    "Pero dominar R requiere tiempo y práctica; supone un aprendizaje lento aunque, por contra, la recompensa es doble: por un lado, un control prácticamente absoluto sobre los datos y su tratamiento, análisis, representación, almacenamiento y exportación; por otro, el libre acceso a una cantidad ingente de recursos y herramientas gratuitas y de calidad. Por estos motivos hemos elegido R frente a otras alternativas que evaluamos de peor calidad, como SPSS.\n",
    "\n",
    "R no funciona con ventanas, es un lenguaje de programación estadística que requiere el uso de comandos. A lo largo del curso te iremos presentando el funcionamiento básico para realizar análisis psicométricos, y en tu mano quedará al final la opción de seguir profundizando en él o no.\n",
    "\n",
    "\n",
    "# 3. Por qué es mejor R que otros programas estadísticos\n",
    "\n",
    "Hay muchos motivos por los que preferir R a otros programas estadísticos, y poco a poco los iremos comentando en clase; ahora listaremos solo algunos de ellos:\n",
    "\n",
    "* R es un proyecto GNU, lo que implica que está disponible gratuitamente bajo la _GNU General Public License_ para varios sistemas operativos. El código fuente para el entorno de software R está escrito principalmente en C, R y Fortran.\n",
    "\n",
    "\n",
    "* R utiliza programación funcional y orientada a objetos. La programación funcional se basa en las llamadas a funciones, que  encapsulan procedimientos habituales, y permiten construir programas complejos a partir de módulos sencillos y robustos. La programación orientada a objetos permite en el caso de R, a través de las llamadas funciones genéricas, modificar el comportamiento de una misma función según la clase del objeto al que se aplica.\n",
    "\n",
    "\n",
    "* Tiene una comunidad enorme detrás de él. El éxito de R está basado en la fuerza de su comunidad. Millones de investigadores trabajan diariamente con él, construyendo, de forma gratuita, nuevas herramientas y funcionalidades. Esto hace que R sea el programa más completo y actualizado de todos los programas estadísticos.\n",
    "\n",
    "\n",
    "* Dispone de miles de paquetes y funciones. La popularidad de R hace que prácticamente cualquier nuevo desarrollo en el campo de la estadística sea primeramente implementado en R para, si hay suerte, trasladado años más tarde a los otros programas como SPSS, MATLAB o SAS. Prácticamente todo está en R, desde una sencilla diferencia de medias hasta módulos de Big Data conectados a sistemas de IA.\n",
    "\n",
    "\n",
    "* Al ser un lenguaje de programación es arduo al principio, pero luego el control es total. Como ya hemos dicho la curva de aprendizaje en R es lenta, pero luego se consiguen cotas que serían impensables con otros programas.\n",
    "\n",
    "\n",
    "* Para una estadística clásica y sencilla igual no es fácil apreciar las ventajas de R, pero para una estadística más compleja R se vuelve imprescindible. La estadística de los últimos años ha dado un giro desde los contrastes clásicos de hipótesis a la construcción de modelos explicativos. R está mejor alineado con esa filosofía que otros programas.\n",
    "\n",
    "\n",
    "\n",
    "# 4. Por qué lo necesitamos en clase\n",
    "\n",
    "Psicometría es una asignatura de \"números\", es decir, está basada en análisis de datos, en concreto en el análisis de datos provenientes de test psicométricos.\n",
    "\n",
    "\n",
    "Uno de los objetivos de la asignatura es sin duda el aprendizaje de los conceptos imprescindibles para trabajar con los test, lo que nos será de vital importancia en el ejercicio de nuestra profesión como psicólogos. Pero un segundo objetivo es la adquisición de habilidades técnicas a nivel estadístico que nos sirvan para conectar los conceptos teóricos con la realidad empírica y comprenderlos mejor, buscando que en un futuro seáis capaces de analizar vuestros propios datos y evaluar vuestros propios instrumentos de medida. Esto, no solo os será útil durante el resto de vuestros estudios, también os será de utilidad en vuestro ejercicio profesional.\n",
    "\n",
    "\n",
    "# 5. Cómo se trabaja con R\n",
    "\n",
    "La forma de trabajar con R es a través de los comandos. R utiliza una sintaxis propia que tenemos que escribir y ejecutar para que realice cada acción. Por así decirlo tenemos que \"programar\" lo que queremos que R haga. Por supuesto esto es más complejo que dar un simple clic en un menú pero a cambio tenemos toda la potencia y versatilidad de un lenguaje de programación. Por ejemplo, para cargar un fichero de datos en el SPSS haríamos algo así como clic en _Archivo -> abrir fichero..._ en R lo haremos utilizando una función como _read.csv()_\n",
    "\n",
    "```R\n",
    "    datos <- read.csv(\"misdatos.csv\")\n",
    "``` \n",
    "\n",
    "Aunque al principio tardemos un poco más en cuanto entendamos la lógica tendremos toda la potencia de R a nuestro alcance. La sintaxis de R es necesaria escribirla en algún sitio para que R la entienda y, simplificando, disponemos de tres opciones para hacerlo: la consola de R, el programa Rstudio y Jupyter.\n",
    "\n",
    "## 5.1. R como consola\n",
    "\n",
    "R es solamente un _kernel_, o motor estadístico que lleva a cabo cálculos matemáticos. Para poder comunicarnos con él y usarlo necesitamos una interfaz o programa donde escribir el código. La opción más sencilla (y la peor) es la que nos ofrece por defecto el programa, que es su consola.\n",
    "\n",
    "La consola se instala por defecto al instalar R y es la opción mínima para trabajar con él. Tiene un aspecto austero y no es cómoda para trabajar, por eso nadie la utiliza.\n",
    "\n",
    "<img src=\"imagenes/Rconsola.bmp\" style=\"width: 800px;\">\n",
    "\n",
    "## 5.2. R a través de Rstudio\n",
    "\n",
    "Una segunda opción es utilizar Rstudio. Este software ha sido desarrollado por una empresa (Rstudio) y es la opción preferida por casi todo el mundo. Presenta una interfaz cómoda y razonablemente intuitiva que te permite escribir código y a la vez ejecutarlo fácilmente.\n",
    "\n",
    "<img src=\"imagenes/Rstudio.bmp\" style=\"width: 800px;\">\n",
    "\n",
    "## 5.3. R en Jupyter\n",
    " \n",
    "Es lo que estás viendo ahora mismo. Jupyter es una interfaz web (para verse en el navegador: Chrome, Edge, Firefox, el que sea) que te permite ejecutar código de R a la vez que se intercala con explicaciones o lecciones de texto. Por ejemplo, en medio de toda esta explicación yo puedo introducir un espacio para ejecutes código de R. \n",
    "\n",
    "En la siguiente ventana prueba a realizar la siguiente operación\n",
    "\n",
    "```R\n",
    "    sqrt(25)\n",
    "```\n",
    "\n",
    "__Ejercicio 1:__ Escribe en la ventana de abajo sqrt(25) y pulsa simultaneamente Control + Enter"
   ]
  },
  {
   "cell_type": "code",
   "execution_count": 1,
   "metadata": {},
   "outputs": [
    {
     "data": {
      "text/html": [
       "7"
      ],
      "text/latex": [
       "7"
      ],
      "text/markdown": [
       "7"
      ],
      "text/plain": [
       "[1] 7"
      ]
     },
     "metadata": {},
     "output_type": "display_data"
    }
   ],
   "source": [
    "# escribe sqrt(25) y pulsa Control + Enter y observa lo que ocurre\n",
    "2+5"
   ]
  },
  {
   "cell_type": "markdown",
   "metadata": {},
   "source": [
    "En la ventana anterior hemos escrito y ejecutado un poquito del código de R y hemos visto el resultado, un __5__. Si quieres puedes utilizar esa misma ventana para probar otros cálculos como sumar 100 + 13, calcular 85 / 5 o encontrar el cuadrado de 8. Ahora no voy a explicarte cómo hacerlo porque es parte de otra lección. Simplemente investiga si lo deseas.\n",
    "\n",
    "\n",
    "> En la ventana de arriba hemos empezado la frase por un #, ese es el símbolo empleado por R para marcar el inicio de un comentario. Cuando R ve un # entiende que no es código y por tanto no lo ejecuta. A lo largo de las lecciones vamos a utilizar los comentarios para irte explicando lo que tienes que hacer y ofrecerte algo de ayuda\n",
    "\n",
    "\n",
    "# 6. Cómo van a ser nuestras prácticas\n",
    "\n",
    "Este curso está construido de la siguiente manera: \n",
    "\n",
    "\n",
    "## 6.1. Las lecciones de Jupyter para casa\n",
    "Vamos a utilizar Jupyter para que vayas aprendiendo los elementos básicos de R. Es interactivo así que mientras te explicamos las lecciones tú puedes ir ejecutando los comandos y observando lo que ocurre y aprendiendo de ello. Estas lecciones de R las tendrás que preparar por tu cuenta en casa, y al terminar la lección tendrás que __contestar a unas preguntas en el campus virtual__.\n",
    "\n",
    "Algunas de las lecciones te gustarán más que otras o pensarás que se adaptan mejor a ti o que su estilo te es más agradable. Esto es porque las lecciones __han sido construidas por distintas personas__, entre ellas por mí, tu profesor, pero también por antiguos alumnos de la asignatura que han querido ayudarme. La idea que subyace a esto es que, a veces, a un alumno le resulta más sencillo explicarle cosas difíciles a otro alumno. Esto enlaza con la filosofía final de este curso que busca generar un aprendizaje significativo a través de la cooperación y el intercambio de conocimiento. Esto último será un _mantra_ que oirás a menudo en las clases. Si quieres ver a todos los que han contribuido para construir estas lecciones consulta esta [página](autores.ipynb)\n",
    "\n",
    "## 6.2. Los ejercicios con Rstudio en clase de informática\n",
    "\n",
    "En las clases de informática aprovecharemos lo que has aprendido en las lecciones con Jupyter para resolver ejercicios de cierta complejidad que serán evaluables para la nota final. En clase utilizaremos Rstudio, que es mucho más cómodo y potente que Jupyter y nos ofrece mayor versatilidad.\n",
    "\n",
    "## 6.3. Los trabajos en grupo mejor con Rstudio \n",
    "\n",
    "A lo largo del curso tendrás que realizar algunos trabajos en grupo. Estos trabajos implican el análisis e interpretación de datos (lógicamente). Puedes utilizar lo que prefieras para resolverlos pero siempre será más cómodo usar Rstudio.\n",
    "\n",
    "Ahora no te preocupes por cómo instalar uno u otro. Para usar Jupyter solo tendrás que clicar en un enlace que aparecerá en el campus virtual (como ya has hecho para acceder a este documento) y para usar Rstudio te explicaremos más adelante qué debes descargarte y cómo empezar a usarlo.\n",
    "\n",
    "\n",
    "> __Un consejo muy importante:__ Intenta no saltarte las lecciones, léelas con atención y sigue la explicación haciendo las tareas que se te indican. Es la única forma de garantizar que vas a aprender lo que te quiero enseñar y que no te vas a perder a las primeras de cambio. Por otro lado, siempre que tengas una duda, pregunta a tu profesor que estaré encantado de ayudarte.\n",
    "\n",
    "\n",
    "# Manuales de apoyo y ayuda con R\n",
    "\n",
    "Aunque parezca apabullante no debes agobiarte ahora por R, parece algo complicado pero en realidad es sencillo de usar en cuanto tengas un poco de práctica. Y tenemos todo un cuatrimestre por delante! \n",
    "\n",
    "Ya iremos explicando en clase cómo obtener ayuda de R y sus funciones. Por ahora te dejo unos cuantos enlaces a documentos creados por la comunidad de R por si te interesa investigar un poco (sólo si te apetece).\n",
    "\n",
    "* [R project](https://www.r-project.org/). La pagina oficial de R\n",
    "* [Rstudio](https://www.rstudio.com). El programa que vamos a usar con R\n",
    "* [Manuales](https://cran.r-project.org/manuals.html). Manuales oficiales de R (en inglés)\n",
    "* [Contribuciones](http://cran.r-project.org/other-docs.html). Manuales escritos por colaboradores, al final de la página están en español.\n",
    "\n",
    "\n"
   ]
  },
  {
   "cell_type": "markdown",
   "metadata": {},
   "source": [
    "***\n",
    "\n",
    "## Soluciones a los ejercicios:\n",
    "\n",
    "__Ejercicio 1:__\n",
    "```R\n",
    "    sqrt(25)\n",
    "```\n",
    "\n"
   ]
  },
  {
   "cell_type": "markdown",
   "metadata": {},
   "source": [
    "***\n",
    "\n",
    "<div align=\"right\">\n",
    "  Enero de 2019 |\n",
    "  <a href=\"autores.html\"> AUTORES <a>\n",
    "</div> \n"
   ]
  }
 ],
 "metadata": {
  "kernelspec": {
   "display_name": "R",
   "language": "R",
   "name": "ir"
  },
  "language_info": {
   "codemirror_mode": "r",
   "file_extension": ".r",
   "mimetype": "text/x-r-source",
   "name": "R",
   "pygments_lexer": "r",
   "version": "3.6.1"
  }
 },
 "nbformat": 4,
 "nbformat_minor": 2
}
