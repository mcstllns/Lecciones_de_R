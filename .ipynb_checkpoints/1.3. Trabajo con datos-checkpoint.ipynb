{
 "cells": [
  {
   "cell_type": "markdown",
   "metadata": {},
   "source": [
    "<h1 style=\"font-size:300%;font-family:verdana;color:navy;\">LECCIÓN 1.3 </h1>\n",
    "<h1 style=\"font-size:150%;font-family:verdana;color:navy;\">Trabajo con datos</h1>\n",
    "    \n",
    "***"
   ]
  },
  {
   "cell_type": "markdown",
   "metadata": {},
   "source": [
    "\n",
    "# 1. Cómo cargar los datos en R\n",
    "\n",
    "Como en todo programa estadístico, para poder hacer algún análisis, primero tenemos que tener cargados nuestros datos. Vamos a empezar cargando los datos con los cuales vamos a trabajar en estas primeras lecciones, momento esencial, ya que sin materia prima difícil de conseguir nada. R puede trabajar con infinidad de formatos diferentes de ficheros de datos pero en nuestro caso solo vamos a trabajar con archivos cuya extensión es .csv. Estos ficheros, muy utilizados en las ciencias de datos, en realidad no son más que un fichero de texto en el que los valores están separados por una \",\" o un \";\". Probablemente sea el tipo de fichero de datos más sencillo y más común en investigación.\n",
    "\n",
    "En jupyter (donde estás leyendo estas lecciones) tienes una carpeta llamada datos, si pinchas en ella verás algunos de los ficheros .csv con los que vamos a trabajar durante el curso. Pincha en un de ellos llamado \"_basededatos.csv_\" y fíjate lo que contiene.\n",
    "\n",
    "<img src=\"imagenes/basededatos.png\" style=\"width: 800px;\">\n",
    "\n",
    "* Al principio del fichero en la primera línea tenemos los nombres de las variables: \"ID\"; \"Edad\"; \"CaegoriaEdad\", etc.\n",
    "* Después de la primera línea ya empiezan las filas con la información de los sujetos.\n",
    "* Cada valor está separado por un punto y coma (;)\n",
    "* Busca donde haya el símbolo coma (,) ese es el símbolo que se utiliza para indicar el separador decimal, por ejemplo: 23,6\n",
    "\n",
    "En resumen, un .csv es un ficheros de texto que contiene los datos de los sujetos, separados por un \";\" y con los nombres de las variables en la primera línea. Esto lo habrás visto ya en otros programas y situaciones, como existen distintos idiomas y distintos teclados también existen diferententes configuraciones regionales, por ejemplo en EEUU se establece que el separador de campos es la coma (',') y el separador decimal el punto ('.') mientras que en España la RAE establece que sean el separador de campos el punto y coma (';') y el separador decimal la coma (',').\n",
    "\n",
    "* __EEUU:__   separar campos = ',' separador decimal = '.'\n",
    "* __España:__ separar campos = ';' separador decimal = ','\n",
    "\n",
    "Esto igual es un poco molesto, pero los idiomas son así, hay que aceptarlo. En el fichero anterior, como se usaba el (';') para separar los campos queda claro que se ha usado el formato español."
   ]
  },
  {
   "cell_type": "markdown",
   "metadata": {},
   "source": [
    "\n",
    "La función que nos permite leer un fichero se llamada _read.csv()_, y podemos aprender más sobre ella escribiendo en el terminal de R \n",
    "\n",
    "```R\n",
    "    ?read.csv\n",
    "``` \n",
    "\n",
    "Fíjate en el siguiente comando de R\n",
    "\n",
    "```R\n",
    "    mydata <- read.csv(file=\"datos/basededatos.csv\", header=TRUE, sep=\";\", dec =\",\")\n",
    "``` \n",
    "\n",
    "Lo que le estamos diciendo a R con esa instrucción es: abre el fichero _misdatos.csv_ que está almacenado en la carpeta llamada __datos__  y guárdalo como un objeto llamado __mydata__. Este fichero de datos, tiene en la primera fila los nombres de las variables (header=TRUE), los campos están separados por un \";\" (sep=\";\") y el indicador para los decimales es la \",\" (dec =\",\").\n",
    "\n",
    "> Como hemos visto antes que se había utilizado el formato español porque el fichero fue construído en España. Por defecto R utiliza el formato americano, así que si no se ponen los campos _sep_ y _dec_ R entiende que son la coma (',') y el punto ('.') respectivamente.\n",
    "\n",
    "Recuerda que una vez cargados los datos estos no se ven en R, para visualizarlos tenemos que llamarles desde la consola escribiendo su nombre, por ejemplo:\n",
    "\n",
    "```R\n",
    "    mydata <- read.csv(file=\"datos/basededatos.csv\", header=TRUE, sep=\";\", dec =\",\")\n",
    "    mydata\n",
    "``` \n",
    "\n",
    "\n",
    "__Ejercicio 1__: Sabiendo que utilizamos el sistema español (\";\" para separar campos y \",\" para decimales) importa el fichero llamado _basededatos.csv_ a un objeto llamado __misdatos__. Una vez importado visualízalo.\n",
    "\n",
    "> El fichero está guardado en una carpeta llamada datos, por lo que tenemos que incluir esa dirección en el nombre de la siguiente forma: __file = \"datos/basededatos.csv\"__"
   ]
  },
  {
   "cell_type": "code",
   "execution_count": null,
   "metadata": {
    "scrolled": true
   },
   "outputs": [],
   "source": [
    "# Introduce aquí el código (para ejecutarlo pulsa Ctr+Enter)\n",
    "\n"
   ]
  },
  {
   "cell_type": "markdown",
   "metadata": {},
   "source": [
    "Si has escrito adecuadamente el código te habrá aparecido en la pantalla algo similar a esto\n",
    "\n",
    "<img src=\"imagenes/1.3.basededatos.png\" style=\"width: 800px;\">\n",
    "\n",
    "Como ves, es similar a la \"rejilla\" de datos del SPSS. Ahora sabemos que los datos han sido adecuadamente cargados y están disponibles para trabajar con ellos. Recuerda que cuando quieras verlos simplemente debes escribir en la línea de comandos el nombre que le hayas dado.\n",
    "\n",
    "```R\n",
    "    mydata\n",
    "``` \n",
    "\n",
    "__Consejo:__ No te lies, usa siempre nombres sin espacios ni caracteres extraños, y evita usar mayúsculas, porque luego te van a dar problemas, por ejemplo: misdatos, mydata, test, etc. serían buenos ejemplos. Los nombres: mis datos, MISDATOS, My_Data, etc. aunque sean igualmente válidos déjalos para cuando tengas más nivel con R.\n",
    "\n",
    "__En estas Lecciones los datos siempre estarán en la carpeta datos y en formato español, por lo que cuando tengas que leerlos tendrás que hacer:__\n",
    "\n",
    "```R\n",
    "    mydata <- read.csv(file=\"datos/nombreDelFichero.csv\", header=TRUE, sep=\";\", dec =\",\")\n",
    "``` "
   ]
  },
  {
   "cell_type": "markdown",
   "metadata": {},
   "source": [
    "# 2. Acceso a los datos en un data frame\n",
    "\n",
    "Una vez cargados necesitamos aprender cómo manejarnos con ellos, lo primero que podemos hacer es pedir un listado de los nombres de todas las variables que lo componen, para ello usamos la función _names()_\n",
    "\n",
    "```R\n",
    "    names(misdatos)\n",
    "``` \n",
    "\n",
    "Para acceder a una variable dentro de un data frame puedo utilizar el símbolo \"$\"; por ejemplo, para obtener los valores de la variables _Edad_ que pertenece al data frame _misdatos_ escribiría\n",
    "\n",
    "```R\n",
    "    misdatos$Edad\n",
    "``` \n",
    "\n",
    " Y, si queremos unos pequeños descriptivos de una variable podemos usar la funcción summary()\n",
    " \n",
    " ```R\n",
    "    summary(misdatos$Edad)\n",
    "``` \n",
    " \n",
    "__Ejercicio 2__: Pide unos descriptivos para la variable _CI_ que pertenece al data frame _misdatos_\n"
   ]
  },
  {
   "cell_type": "code",
   "execution_count": null,
   "metadata": {},
   "outputs": [],
   "source": [
    "# Introduce aquí el código (para ejecutarlo pulsa Ctr+Enter)\n",
    "\n"
   ]
  },
  {
   "cell_type": "markdown",
   "metadata": {},
   "source": [
    "Además de referirnos por su nombre también podemos referirnos a una variable por su posición, por ejemplo: la variable edad es la segunda variable, así que podríamos haber escrito\n",
    "\n",
    "```R\n",
    "    summary(misdatos[,2])\n",
    "``` \n",
    "\n",
    "Fíjate en esta forma de referirnos a las variables, es una notación matricial. En una matriz, por ejemplo llamada _matriz_, para referirnos a sus elementos utilizamos los corchetes: [fila, columna] y de igual manera con los data frame, fíjate en la siguiente sintaxis.\n",
    "\n",
    "> Recuerda que en un data frame las filas representan sujetos y las columnas variables\n",
    "\n",
    "\n",
    "```R\n",
    "    misdatos[1,1] # es el valor del primer sujeto en la primera variable\n",
    "    misdatos[1,5] # es el valor del primer sujeto en la variable 5\n",
    "    misdatos[5,1] # es el valor del quinto sujeto en la primera variable\n",
    "``` \n",
    "\n",
    "Es sencillo, el primer número es el sujeto y el segundo la variable. Ahora podemos ampliarlo un poco más\n",
    "\n",
    "```R\n",
    "    misdatos[,1] # TODOS LOS SUJETOS en la primera variable\n",
    "    misdatos[1,] # TODOS LAS VARIABLES para el primer sujeto\n",
    "```\n",
    "\n",
    "En R, cuando no queremos referirnos a un sujeto en particular quitamos el número y no ponemos nada delante de la coma, así le indicamos que queremos a todos los sujetos. Lo mismo hacemos para las variables.\n",
    "\n",
    "__Ejercicio 3:__\n",
    "\n",
    "* Obtén el valor para el sujeto 3 en la cuarta variable (Sexo)\n",
    "* Obtén los valores de todos los sujetos en la cuarta variable (Sexo)"
   ]
  },
  {
   "cell_type": "code",
   "execution_count": null,
   "metadata": {},
   "outputs": [],
   "source": [
    "# Introduce aquí el código (para ejecutarlo pulsa Ctr+Enter)\n",
    "\n"
   ]
  },
  {
   "cell_type": "markdown",
   "metadata": {},
   "source": [
    "Usando la forma matricial tenemos mucha versatilidad para seleccinar casos y variables, de nuevo fíjate en la sintaxis:\n",
    "\n",
    "```R\n",
    "    misdatos[,1:3] # TODOS LOS SUJETOS en las variables de la 1 a la 3\n",
    "    misdatos[1:500,] # TODOS LAS VARIABLES para los sujetos desde el 1 al 500\n",
    "```\n",
    "\n",
    "Utilizando los dos puntos \":\" puedo indicarle a R la variable (o sujeto) de inicio y la de final.\n",
    "\n",
    "Y si quisiese seleccionar solo algunas de las variables, pero no estan consecutivas (por ejemplo las variables 2, 4 y 7) podría usar lo siguiente, al igual que vimos en la lección anterior\n",
    "\n",
    "```R\n",
    "    misdatos[,c(2, 4, 7)] # TODOS LOS SUJETOS en las variables 2, 4 y 7\n",
    "```\n",
    "\n",
    "En realidad es bastante sencillo, pero se necesita un poco de práctica hasta sentirse cómodo con la nomenclatura. No te preocupes porque practicaremos en clases de prácticas.\n"
   ]
  },
  {
   "cell_type": "markdown",
   "metadata": {},
   "source": [
    "# 3. Crear una variable nueva en un data frame\n",
    "\n",
    "Es tan simple como poner el nombre de la variable que queramos con el valor que debe tener. Por ejemplo, si quiero introducir una variable llamada \"cero\", compuesta solo por ceros, en mi data frame llamado _misdatos_ solo tendría que hacer\n",
    "\n",
    "\n",
    "```R\n",
    "    misdatos$cero <- 0\n",
    "```\n",
    "\n",
    "Para comprobar que la variable ha sido cargada podemos visualizar sus datos\n",
    "\n",
    "\n",
    "```R\n",
    "    misdatos$cero\n",
    "```\n",
    "\n",
    "Podemos crear tantas variables como queramos, y estas pueden ser transformaciones de las variables anteriores, por ejemplo, vamos a crear una variable que sea la Edad multimplicada por 2\n",
    "\n",
    "```\n",
    "    misdatos$nuevaedad <- datos$Edad * 2\n",
    "```\n",
    "\n",
    "__Ejercicio 4:__ Crea en tu data frame una variable llamada sumaseveridad que sea la suma de las variables Severidad1, Severidad2 y Severidad3. Comprueba que la has calculado correctamente viendo su valores\n"
   ]
  },
  {
   "cell_type": "code",
   "execution_count": null,
   "metadata": {},
   "outputs": [],
   "source": [
    "# Introduce aquí el código (para ejecutarlo pulsa Ctr+Enter)\n",
    "\n"
   ]
  },
  {
   "cell_type": "markdown",
   "metadata": {},
   "source": [
    "# 4. Seleccionar sujetos y variables\n",
    "\n",
    "Cuando estamos analizando datos es muy común tener que crear un segundo conjunto de datos que contenga parte de los primeros. Por ejemplo, quiero hacer un análisis solamante con las mujeres o, de todas las variables del data frame, solo necesito unas cuantas.\n",
    "\n",
    "En ambos casos, tanto si quiero seleccionar casos, como seleccionar sujetos, puedo usar la función _subset()_.\n",
    "\n",
    "Para seleccionar variables podríamos usar una sintaxis como la siguiente:\n",
    "\n",
    "```R\n",
    "    nuevosdatos <- subset(misdatos, select=c(Sexo, Edad))\n",
    "```\n",
    "Con esta sintaxis le estamos diciendo a R que construya un nuevo data frame llamado _nuevosdatos_ que contiene las variables Sexo y Edad almacenadas en él.\n",
    "\n",
    "Y para seleccionar sujetos usaríamos esta sintaxis:\n",
    "\n",
    "```R\n",
    "    madrid <- subset(misdatos, Poblacion==\"Madrid\")\n",
    "    jovenmadrid <- subset(misdatos, Poblacion==\"Madrid\" & Edad < 30)\n",
    "```\n",
    "En el primer caso hemos creado el data frame llamado _madrid_ que contiene solamente aquellos sujetos que en la variable _Poblacion_ tiene un valor igual \"Madrid. En el segundo creamos un data frame llamado _jovenmadrid_ que contiene aquellos que cumplen dos condiciones, ser de Madrid y tener en Edad menos de 30 años.\n",
    "\n",
    "> Se pueden usar los símbolos de comparación que vimos en la lección anterior (>, <, >=, <=, ==)\n",
    "\n",
    "Las dos acciones, seleccionar sujetos y seleccionar variables se pueden combinar en una única llamada a la función\n",
    "\n",
    "__Ejercicio 5:__ Del data frame datos selecciona a los sujeto mayores de 30 y que hayan nacido en Santander y crea con ellos un nuevo data frame llamado mayorsantander"
   ]
  },
  {
   "cell_type": "code",
   "execution_count": null,
   "metadata": {},
   "outputs": [],
   "source": [
    "# Introduce aquí el código (para ejecutarlo pulsa Ctr+Enter)\n",
    "\n"
   ]
  },
  {
   "cell_type": "markdown",
   "metadata": {},
   "source": [
    "***\n",
    "## Soluciones a los ejercicios:\n",
    "***\n",
    " \n",
    "\n",
    "<details>\n",
    "<summary> Click para ver las soluciones </summary>\n",
    "    \n",
    "\n",
    "__Ejercicio 1:__\n",
    "```R\n",
    "    misdatos <- read.csv(file=\"datos/basededatos.csv\", header=TRUE, sep=\";\", dec =\",\")\n",
    "    misdatos\n",
    "```\n",
    "\n",
    " __Ejercicio 2:__\n",
    "```R\n",
    "    summary(misdatos$CI)\n",
    "```\n",
    "\n",
    "__Ejercicio 3:__\n",
    "```R\n",
    "    misdatos[3,4]\n",
    "    misdatos[,4]\n",
    "```\n",
    "\n",
    "__Ejercicio 4:__\n",
    "```\n",
    "    misdatos$sumaseveridad <- misdatos$Severidad1 + misdatos$Severidad2 + misdatos$Severidad3\n",
    "    misdatos$sumaseveridad\n",
    "```\n",
    "\n",
    "__Ejercicio 5:__\n",
    "```R\n",
    "    mayorsantander <- subset(misdatos, Poblacion==\"Santander\" & Edad > 30)\n",
    "    mayorsantander\n",
    "```\n",
    "\n",
    "</details>"
   ]
  },
  {
   "cell_type": "markdown",
   "metadata": {},
   "source": [
    "***\n",
    "\n",
    "<div align=\"right\">\n",
    "  Enero de 2020 |\n",
    "  <a href=\"autores.ipynb\"> AUTORES <a>\n",
    "</div> \n"
   ]
  }
 ],
 "metadata": {
  "kernelspec": {
   "display_name": "R",
   "language": "R",
   "name": "ir"
  },
  "language_info": {
   "codemirror_mode": "r",
   "file_extension": ".r",
   "mimetype": "text/x-r-source",
   "name": "R",
   "pygments_lexer": "r",
   "version": "3.6.1"
  }
 },
 "nbformat": 4,
 "nbformat_minor": 2
}
