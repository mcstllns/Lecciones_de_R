{
 "cells": [
  {
   "cell_type": "markdown",
   "metadata": {},
   "source": [
    "<h1 style=\"font-size:300%;font-family:verdana;color:navy;\">LECCIÓN 3.2. </h1>\n",
    "<h1 style=\"font-size:150%;font-family:verdana;color:navy;\">FIABILIDAD. Consistencia temporal</h1>\n",
    "    \n",
    "***"
   ]
  },
  {
   "cell_type": "markdown",
   "metadata": {},
   "source": [
    "# 2. Cálculo de la Fiabilidad como consistencia temporal\n",
    "\n",
    "\n"
   ]
  },
  {
   "cell_type": "markdown",
   "metadata": {},
   "source": [
    "# 2.1. Método del Test - Retest\n",
    "\n",
    "En este método vamos a pasar el test dos veces a un conjunto de sujetos y después calcular la correlación entre las primeras puntuaciones y las segundas. Esa correlación será la fiabilidad ya que como vimos en teoría:\n",
    "\n",
    "$$\\rho^2_{XV}=\\rho_{XX'}$$\n",
    "\n",
    "Siendo $X$ la primera medición en el test y $X'$ la segunda medición.\n",
    "\n",
    "Vamos a empezar importando unos datos que tengan ya este formato, por ejemplo los guardados en el fichero _testRetest.csv_\n",
    "\n",
    "La forma de iportar los datos ya ha sido explicada y utilizada anteriormente por lo que no lo explicamos de nuevo (utiliza la función _read.csv()_ )\n",
    "\n",
    "__Ejercicio 1:__ Importa los datos del fichero _testRetest.csv_ y llámalos _datos_ y visualizalo"
   ]
  },
  {
   "cell_type": "code",
   "execution_count": null,
   "metadata": {},
   "outputs": [],
   "source": [
    "# Introduce aquí el código (para ejecutarlo pulsa Ctr+Enter)\n"
   ]
  },
  {
   "cell_type": "markdown",
   "metadata": {},
   "source": [
    "Fíjate que x1 hace referencia a la primera medición y x2 a la segunda medición. \n",
    "\n",
    "Calcular la fiabilidad por el método Test-Retest resulta tan trivial como calcular la correlación entre ambas mediciones:\n",
    "\n",
    "```\n",
    "  cor(datos$x1, datos$x2)\n",
    "``` \n",
    "\n",
    "__Ejercicio 2:__ Calcula la correlación entre x1 y x2"
   ]
  },
  {
   "cell_type": "code",
   "execution_count": null,
   "metadata": {},
   "outputs": [],
   "source": [
    "# Introduce aquí el código (para ejecutarlo pulsa Ctr+Enter)\n"
   ]
  },
  {
   "cell_type": "markdown",
   "metadata": {},
   "source": [
    "Habrás obtenido un valor aproximado de 0.75, lo que indica una fiabilidad bastante alta para este test. \n",
    "\n",
    "Sin embargo, es importante evaluar cómo de segura es esa estimación de la fiabilidad. El cálculo del test retest está basado en el supuesto de que todo se mantiene constante entre la primera y la segunda medición, pero es posible que no sea así. Por ejemplo, los sujetos podría haber aprendido o tener cansancio, o incluso que se haya producido un cambio en el criterio de respuesta.\n",
    "\n",
    "Para valorar estos casos debemos comprobar a través de constrastes de hipótesis si las medias y varianzas han cambiado. La sintaxis ya la conocemos y es muy sencilla, ambos contrastes son para muestras relacionadas y solo tenemos que aplicarla a nuestro caso:\n",
    "\n",
    "```\n",
    "  t.test(datos$x1, datos$x2, paired=TRUE)\n",
    "  var.test(datos$x1, datos$x2)\n",
    "\n",
    "``` \n",
    "\n",
    "> Recuerda que como son dos mediciones a los mismos sujetos (la primera el test y la segunda el retest, debemos indicar utilizar la sintaxis apropiada, incluyendo en el contraste de medias: paired=TRUE y usando la siguiente sintaxis para el contraste de varianzas: var.test(datos\\\\$Severidad1, datos\\\\$Severidad2)\n",
    "\n",
    "__Ejercicio 3:__ Haz contrastes de hipótesis para conocer si medias y varianzas son iguales"
   ]
  },
  {
   "cell_type": "code",
   "execution_count": null,
   "metadata": {},
   "outputs": [],
   "source": [
    "# Introduce aquí el código (para ejecutarlo pulsa Ctr+Enter)\n",
    "\n"
   ]
  },
  {
   "cell_type": "markdown",
   "metadata": {},
   "source": [
    "Los resultados los interpretamos de la siguiente manera:\n",
    "\n",
    "* Si existiese diferencias entre las dos medias esta está causada por un cambio en los sujetos (cansancio, aprendizaje, maduración)\n",
    "\n",
    "* Si existiese diferencias entre las varianzas esta puede estar causada por un cambio en la precisión del test (cambio de la varianza error) o por un cambio en el criterio de respuesta de los sujetos (cambio de la varianza verdadera)\n",
    "\n",
    "En nuestro caso, los p-valor han sido de 0.0072 para las medias y de 0.70 para las varianzas, es decir, hay diferencias entre las medias aunque no entre las varianzas. Parece que los sujetos han empeorado un poco (han pasado de una media de 60.84 en x1 a una media de 58.80 en x2). En este caso podríamos tener dudas de que el valor que hemos encontrado para la fiabilidad anteriormente (0.746) representa de forma precisa la fiabilidad del test, ya que los sujetos han cambiado en sus respuestas.\n"
   ]
  },
  {
   "cell_type": "markdown",
   "metadata": {},
   "source": [
    "## 3. Calculo de la fiabilidad en test paralelos\n",
    "\n",
    "La lógica subyacente al cálculo de la fibilidad por test paralelos es similar a la utilizada en el Test-Retest, vamos a calcular la fiabilidad como la correlación entre la primera y la segunda medición.\n",
    "\n",
    "$$\\rho_{XX'}$$\n",
    "\n",
    "Pero en este caso $X$ representa un test cualquiera y $X'$ un test paralelo al primero.\n",
    "\n",
    "Si X y X' son paralelos entonces la fiabilidad es simplemente la correlación entre las puntuaciones, pero si los test no son estrictamente paralelos esa correlación __no es exactamente la fiabilidad__, sino que tendrá un grado de distorsión. Simplificando mucho podemos establecer la siguiente interpretación\n",
    "\n",
    "  * Cuando los test son paralelos: entonces $\\rho_{XX'}$ es __exactamente__ la fiabilidad\n",
    "  * Cuando los test son Tau-equivalentes: entonces $\\rho_{XX'}$ está __cercano__ a la fiabilidad\n",
    "  * Cuando se da otro tipo o ninguna relación: entonces $\\rho_{XX'}$ no representa la fibilidad y deberíamos utilizar otro sistema para calcularla, por ejemplo los métodos de consistencia interna.\n",
    "\n",
    "En esta práctica primero vamos a importar unos datos que nos serán útiles para calcular la fiabilidad por el método de las formas paralelas, después veremos que tipo de equivalencia existe entre las formas para poder interpretar adecuadamente el valor obtenido y por último calcularemos la correlación entre las dos formas (la teórica fiabilidad).\n",
    "\n",
    "Carguemos el fichero llamado _paralelos.csv_\n",
    "\n",
    "\n",
    "__Ejercicio 4:__ Importa los datos del fichero paralelos.csv y llamalos _datos_ y visualizalo\n",
    "\n"
   ]
  },
  {
   "cell_type": "code",
   "execution_count": null,
   "metadata": {},
   "outputs": [],
   "source": [
    "# Introduce aquí el código (para ejecutarlo pulsa Ctr+Enter)\n"
   ]
  },
  {
   "cell_type": "markdown",
   "metadata": {},
   "source": [
    "Como puedes comprobar en este fichero hay tres variables:\n",
    "* x1: Es el primer test\n",
    "* x2: Es el segundo test, supuestamente paralelo al anterior\n",
    "* y: Es una variable externa o criterio.\n",
    "\n",
    "Para saber qué tipo de equivalencia existe entre dos formas de un test debemos conocer, a través de un contraste de hipótesis, si las medias y las varianzas son iguales, y entonces decidir:\n",
    "\n",
    "* Si medias y varianzas son iguales: Son paralelos\n",
    "* Si medias son iguales pero varianzas no: Son Tau-equivalentes\n",
    "* Las medias no son iguales: No hay equivalencia que nos valga\n",
    "\n",
    "Vamos a ver cómo hacerlo con R, primero llevamos a cabo el contraste de medias y varianzas. La sintaxis es idéntica al caso de Test-Retest, ya que son medidas repetidas en ambas situaciones:\n",
    "\n",
    "\n",
    "```\n",
    "  t.test(datos$x1, datos$x2, paired=TRUE)\n",
    "  var.test(datos$x1, datos$x2)\n",
    "\n",
    "``` \n",
    "\n",
    "__Ejercicio 5:__ Haz contrastes de hipótesis para conocer si medias y varianzas son iguales"
   ]
  },
  {
   "cell_type": "code",
   "execution_count": null,
   "metadata": {},
   "outputs": [],
   "source": [
    "# Introduce aquí el código (para ejecutarlo pulsa Ctr+Enter)\n"
   ]
  },
  {
   "cell_type": "markdown",
   "metadata": {},
   "source": [
    "En este caso hemos obtenido p-valor de 0.12 para las medias y de 0.51 para las varianzas por lo que estamos completamente seguros de que las formas han salido estrictamente paralelas.\n",
    "\n",
    "De todas formas hay una manera extra de estar seguros: Si las formas son paralelas la correlacion de cada una de ellas con un criterio externo deberían ser iguales. Nosotros no la vamos a utilizar para interpretar si son paralelas o no, pero ya que tenemos la variable __y__ en el fichero podemos comprobar si se cumple o no.\n",
    "\n",
    "La sintaxis sería la siguiente:\n",
    "\n",
    "```\n",
    "    cor(datos$x1, datos$y) # calculamos la correlacion de X1 con Y, lo guardamos en la variable rx1y\n",
    "    cor(datos$x2, datos$y) # calculamos la correlacion de X2 con Y, lo guardamos en la variable rx2y\n",
    "  \n",
    "  \n",
    "``` \n",
    "\n",
    "En nuestro caso vamos a obtener las siguientes correlaciones respectivamente: 0.600 y 0.694\n",
    "\n",
    "Ahora podemos contrastar si esas correlaciones son estadísticamente iguales usando la función _r.test()_. Esta función pertenece al paquete psych por lo que tenemos que cargarlo antes de poder usarla\n",
    "\n",
    "```\n",
    "    library(psych)\n",
    "    r.test(93, 0.600, 0.694)\n",
    "``` \n",
    "\n",
    "Y el primer 93 es el numero de sujetos del fichero, que podemos verlo a ojo (mirando cuál es la última linea) o conocerlo usando la función _nrow()_\n",
    "\n",
    "```\n",
    "  nrow(datos)\n",
    "``` \n",
    "\n",
    "__Ejercicio 6:__ Calcula la correlación de cada forma del test con el criterio externo Y y contraste si esas correlaciones son iguales"
   ]
  },
  {
   "cell_type": "code",
   "execution_count": null,
   "metadata": {},
   "outputs": [],
   "source": [
    "# Introduce aquí el código (para ejecutarlo pulsa Ctr+Enter)\n"
   ]
  },
  {
   "cell_type": "markdown",
   "metadata": {},
   "source": [
    "Has tenido que obtener un p-valor de 0.28, con lo que podemos afirmar que estadísticaemnte las correlaciones son iguales. Confirmando lo encontrado antes de que las formas son estrictamente paralelas.\n",
    "\n",
    "Ahora vamos a proceder a calcular la fiabilidad como las correlación entre las formas x1 y x2. La sintaxis es una simple correlación:\n",
    "\n",
    "```\n",
    "  cor(datos$x1, datos$x2)  \n",
    "``` \n",
    "\n",
    "__Ejercicio 7:__ Calcula la correlación entre las formas del test"
   ]
  },
  {
   "cell_type": "code",
   "execution_count": null,
   "metadata": {},
   "outputs": [],
   "source": [
    "# Introduce aquí el código (para ejecutarlo pulsa Ctr+Enter)\n",
    " "
   ]
  },
  {
   "cell_type": "markdown",
   "metadata": {},
   "source": [
    "Y el valor obtenido es de 0.623, que al ser formas estrictamente paralelas debe coincidir exactamente con la fiabilidad del test.\n",
    "\n",
    "En caso de que las formas hubieses sido tau-equivalentes diríamos que la fiabilidad no es exactamente esa, pero sería muy cercana y si no hubiese habido ninguna equivalencia diriamos que no es adecuado calcular la fiabilidad por este método\n"
   ]
  },
  {
   "cell_type": "markdown",
   "metadata": {},
   "source": [
    "***\n",
    "## Soluciones a los ejercicios:\n",
    "***\n",
    " \n",
    "\n",
    "<details>\n",
    "<summary> Click para ver las soluciones </summary>\n",
    "    \n",
    "__Ejercicio 1:__\n",
    "```\n",
    "    datos <- read.csv(file=\"datos/testRetest.csv\", header=TRUE, sep=\";\", dec =\",\")\n",
    "    datos\n",
    "```\n",
    "\n",
    " __Ejercicio 2:__\n",
    "```\n",
    "    cor(datos$x1, datos$x2)\n",
    "```\n",
    "\n",
    "__Ejercicio 3:__\n",
    "```\n",
    "    t.test(datos$x1, datos$x2)\n",
    "    var.test(datos$x1, datos$x2) \n",
    "```\n",
    "\n",
    "__Ejercicio 4:__\n",
    "```R\n",
    "    datos <- read.csv(file=\"datos/paralelos.csv\", header=TRUE, sep=\";\", dec =\",\")\n",
    "    datos\n",
    "```\n",
    "\n",
    "__Ejercicio 5:__\n",
    "```\n",
    "    t.test(datos$x1, datos$x2)\n",
    "    var.test(datos$x1, datos$x2)\n",
    "```\n",
    "\n",
    "__Ejercicio 6:__\n",
    "```\n",
    "    library(psych)\n",
    "    nrow(datos)\n",
    "    cor(datos$x1, datos$y)\n",
    "    cor(datos$x2, datos$y)\n",
    "    r.test(93, 0.600, 0.694)\n",
    "```\n",
    "\n",
    "__Ejercicio 7:__\n",
    "```\n",
    "    cor(datos$x1, datos$x2)  \n",
    "```\n",
    "\n",
    "</details>"
   ]
  },
  {
   "cell_type": "markdown",
   "metadata": {},
   "source": [
    "***\n",
    "\n",
    "<div align=\"right\">\n",
    "  Enero de 2020 |\n",
    "  <a href=\"autores.html\"> AUTORES <a>\n",
    "</div> \n"
   ]
  }
 ],
 "metadata": {
  "kernelspec": {
   "display_name": "R",
   "language": "R",
   "name": "ir"
  },
  "language_info": {
   "codemirror_mode": "r",
   "file_extension": ".r",
   "mimetype": "text/x-r-source",
   "name": "R",
   "pygments_lexer": "r",
   "version": "3.6.1"
  }
 },
 "nbformat": 4,
 "nbformat_minor": 2
}
