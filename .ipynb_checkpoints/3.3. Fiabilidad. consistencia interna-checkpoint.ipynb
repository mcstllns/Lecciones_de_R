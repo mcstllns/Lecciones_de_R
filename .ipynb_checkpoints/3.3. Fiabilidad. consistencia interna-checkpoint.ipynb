{
 "cells": [
  {
   "cell_type": "markdown",
   "metadata": {},
   "source": [
    "<h1 style=\"font-size:300%;font-family:verdana;color:navy;\">LECCIÓN 3.3 </h1>\n",
    "<h1 style=\"font-size:150%;font-family:verdana;color:navy;\">FIABILIDAD. Consistencia interna</h1>\n",
    "    \n",
    "***"
   ]
  },
  {
   "cell_type": "markdown",
   "metadata": {},
   "source": [
    "# 3. Cálculo de la fiabilidad como consistencia interna"
   ]
  },
  {
   "cell_type": "markdown",
   "metadata": {},
   "source": [
    "## 3.1. Método de las dos mitades\n",
    "\n",
    "Este método consiste en dividir el test en dos mitades, en este ejemplo crearemos una primera mitad (a la que llamaremos __mitad par__) que contiene todos los items pares (2, 4, 6, etc) y una segunda mitad a la que llamaremos __mitad impar__ que contiene todos los items impares (1, 3, 5, etc). \n",
    "\n",
    "En realidad no necesitamos separar los items, sino solamente crear una nueva puntuación que sea la suma de los items pares y otra nueva puntuación que sea la suma de los impares.\n",
    "\n",
    "La sintaxis en R que nos permite crear esas dos nuevas puntuaciones es la siguiente:\n",
    "\n",
    "\n",
    "```\n",
    "    datos$Ximpar<- rowSums(datos[seq(from=1, to=20, by=2)])\n",
    "    datos$Xpar<- rowSums(datos[seq(from=2, to=20, by=2)])\n",
    "```\n",
    "\n",
    "Si tenemos un fichero de datos que __contiene 20 items__ esa sintaxis nos creará una nueva variable llamada Ximpar que es la suma de las variables 1, 3, etc hasta la 20 (bueno, parará en la 19 porque la 20 no es impar). Y otra variable llamada X par que es la suma de las variables 2, 4, etc hasta la 20\n",
    "\n",
    "Veámoslo con un ejemplo.\n",
    "\n",
    "__Ejercicio 1:__ Carga el fichero mitadesYalfa.csv y llamalo datos como otras veces"
   ]
  },
  {
   "cell_type": "code",
   "execution_count": null,
   "metadata": {},
   "outputs": [],
   "source": [
    "# Introduce aquí el código (para ejecutarlo pulsa Ctr+Enter)\n",
    "\n"
   ]
  },
  {
   "cell_type": "markdown",
   "metadata": {},
   "source": [
    "Fijate que este fichero contiene 40 items, del 1 al 40, numerados como V1, V2... V40\n",
    "Podemos adaptar la sintaxis anterior para crear nuestras variables par e impar\n",
    "\n",
    "```\n",
    "    datos$Ximpar<- rowSums(datos[seq(from=1, to=40, by=2)])\n",
    "    datos$Xpar<- rowSums(datos[seq(from=2, to=40, by=2)])\n",
    "```\n",
    "\n",
    "\n",
    "__Ejercicio 2:__ Crea las variables Xpar y Ximpar, visualízalas y descríbelas.\n",
    "\n",
    "\n"
   ]
  },
  {
   "cell_type": "code",
   "execution_count": null,
   "metadata": {},
   "outputs": [],
   "source": [
    "# Introduce aquí el código (para ejecutarlo pulsa Ctr+Enter)  \n",
    "\n"
   ]
  },
  {
   "cell_type": "markdown",
   "metadata": {},
   "source": [
    "Al visualizarlo te aparecerán al final las variables Xpar y Ximpar\n",
    "\n",
    "> __Ten cuidado, si tu fichero tiene distinto número de ítems, o tu primera variable no es el primer item, tienes que adaptar la sintaxis para que funcione. Piensa!__\n",
    "\n",
    "Una vez calculadas las dos partes podemos proceder como en el caso de las formas paralelas:\n",
    "\n",
    "* 1. Comprobamos que las formas son paralelas\n",
    "* 2. Calculamos la correlación entre ambas partes\n",
    "\n",
    "Vamos a obviar la parte de comprobar que son paralelas, ya que lo vimos en la práctica anterior y vamos a suponer que sí lo son. Al igual que antes, en caso de no ser paralelas tendríamos que tener cuidado al interpretar la fiabilidad, ya que esta estaría contaminada.\n",
    "\n",
    "Calculamos la correlación entre ambas partes usando la función _cor()_\n",
    "\n",
    "```\n",
    "    cor(datos$Xpar, datos$Ximpar)\n",
    "```\n",
    "\n",
    "Y ahora recuerda __MUY IMPORTANTE:__ Esa correlación no es la verdadera fiabilidad, ya que ha sido calculada para un test con la mitad de longitud (al partirlo por la mitad, en nuestro caso 10 items contra 10 items), para conocer la verdadera fiabilidad tenemos que utilizar la fórmula de Spearman-Brown con k=2\n",
    "\n",
    "$$\\rho_{XX'}=\\frac{2 * \\rho_{pi}}{1 + \\rho_{pi}}$$\n",
    "\n",
    "Que en R puede calcularse de la siguiente forma\n",
    "\n",
    "```\n",
    "    micor <- cor(datos$Xpar, datos$Ximpar)  # calculamos la correlacion y la guardamos en micor\n",
    "    (2 * micor) / (1 + micor)               # aplicamos la formula\n",
    "```\n",
    "\n",
    "__Ejercicio 3:__ Calcula la correlación entre las mitades par e impar y calcula la fiabilidad final con la formula de Spearman-Brown"
   ]
  },
  {
   "cell_type": "code",
   "execution_count": null,
   "metadata": {},
   "outputs": [],
   "source": [
    "# Introduce aquí el código (para ejecutarlo pulsa Ctr+Enter)      \n",
    "\n"
   ]
  },
  {
   "cell_type": "markdown",
   "metadata": {},
   "source": [
    "Si lo has calculado bien habrás obtenido una fiabildiad final de 0.811"
   ]
  },
  {
   "cell_type": "markdown",
   "metadata": {},
   "source": [
    "## 3.2. Método del alpha de Cronbach\n",
    "\n",
    "Es sin duda el más sencillo de calcular y el más utilizado en la práctica. Para ejemplificarlo vamos a usar los datos que ya tenemos cargados.\n",
    "\n",
    "Para calcular alpha simplemente tenemos que usar la función alpha que está en el paquete psych, por lo que primero cargamos psych y luego la usamos:\n",
    "\n",
    "\n",
    "```\n",
    "    library(psych)\n",
    "    alpha(datos[1:40])\n",
    "```\n",
    "\n",
    "Fíjate en la sintaxis anterior: datos[1:40] lo hemos hecho así porque recuerda que hemos creado dos nuevas variables Xpar y Ximpar, pera en la llamada a alpha __solo puedo pasarle los items__ así que de esta manera le indico que utilice solamente desde la variable 1 a la 40 (obviando la 41 y la 42 que son las dos nuevas que creamos Xpar y Ximpar). Otra forma de hacerlo podría haber sido:\n",
    "\n",
    "```\n",
    "    soloitems <- datos[1:40]   # creamos un data frame con solo los items\n",
    "    alpha(soloitems)           # calculamos alpha con ellos\n",
    "```\n",
    "\n",
    "__Ejercicio 4:__ Calcula alpha con los 40 items de nuestro test"
   ]
  },
  {
   "cell_type": "code",
   "execution_count": null,
   "metadata": {},
   "outputs": [],
   "source": [
    "# Introduce aquí el código (para ejecutarlo pulsa Ctr+Enter)      \n"
   ]
  },
  {
   "cell_type": "markdown",
   "metadata": {
    "collapsed": true
   },
   "source": [
    "Verás que hay mucha información en la salida pero ahora no nos interesa. El valor de alpha es el aparece como raw_alpha con un valor de 0.8 y su intervalo de confianza al 95% lo tenemos justo debajo con los límites de 0.77 y 0.84\n",
    "\n",
    "Es muy probable que quieras conocer con más precisión el valor de alpha (con todos los decimales posibles), para ello puedes decirle a R que te muestre parte de la salida usando el símbolo \"__$__\"\n",
    "\n",
    "```\n",
    "    a <- alpha(datos[1:40])\n",
    "    a$total\n",
    "```\n",
    "\n",
    "__Ejercicio 5:__ Calcula el valor de alpha con todos los decimales posibles"
   ]
  },
  {
   "cell_type": "code",
   "execution_count": null,
   "metadata": {},
   "outputs": [],
   "source": [
    "# Introduce aquí el código (para ejecutarlo pulsa Ctr+Enter)      \n"
   ]
  },
  {
   "cell_type": "markdown",
   "metadata": {},
   "source": [
    "Si lo has hecho correctamente deberias obtener valor para raw_alpha de 0.8014964"
   ]
  },
  {
   "cell_type": "markdown",
   "metadata": {},
   "source": [
    "***\n",
    "## Soluciones a los ejercicios:\n",
    "***\n",
    " \n",
    "\n",
    "<details>\n",
    "<summary> Click para ver las soluciones </summary>\n",
    "\n",
    "__Ejercicio 1:__\n",
    "```\n",
    "    datos <- read.csv(file=\"datos/mitadesYalfa.csv\", header=TRUE, sep=\";\", dec =\",\")\n",
    "    datos\n",
    "```\n",
    "\n",
    " __Ejercicio 2:__\n",
    "```\n",
    "    datos$Ximpar<- rowSums(datos[seq(from=1, to=40, by=2)])\n",
    "    datos$Xpar<- rowSums(datos[seq(from=2, to=40, by=2)])\n",
    "    datos\n",
    "    library(psych)\n",
    "    describe(datos)\n",
    "```\n",
    "\n",
    "__Ejercicio 3:__\n",
    "```\n",
    "    micor <- cor(datos$Xpar, datos$Ximpar)\n",
    "    (2 * micor) / (1 + micor) \n",
    "```\n",
    "\n",
    "__Ejercicio 4:__\n",
    "```R\n",
    "    library(psych)\n",
    "    alpha(datos[1:40])\n",
    "```\n",
    "\n",
    "__Ejercicio 5:__\n",
    "```R\n",
    "    a <- alpha(datos[1:40])\n",
    "    a$total\n",
    "```\n",
    "</details>"
   ]
  },
  {
   "cell_type": "markdown",
   "metadata": {},
   "source": [
    "***\n",
    "\n",
    "<div align=\"right\">\n",
    "  Enero de 2020 |\n",
    "  <a href=\"autores.html\"> AUTORES <a>\n",
    "</div> \n"
   ]
  }
 ],
 "metadata": {
  "kernelspec": {
   "display_name": "R",
   "language": "R",
   "name": "ir"
  },
  "language_info": {
   "codemirror_mode": "r",
   "file_extension": ".r",
   "mimetype": "text/x-r-source",
   "name": "R",
   "pygments_lexer": "r",
   "version": "3.6.1"
  }
 },
 "nbformat": 4,
 "nbformat_minor": 2
}
