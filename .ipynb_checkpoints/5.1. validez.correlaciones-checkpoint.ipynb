{
 "cells": [
  {
   "cell_type": "markdown",
   "metadata": {},
   "source": [
    "<h1 style=\"font-size:300%;font-family:verdana;color:navy;\">LECCIÓN 5.1. </h1>\n",
    "<h1 style=\"font-size:150%;font-family:verdana;color:navy;\">Validez basada en correlaciones</h1>\n",
    "    \n",
    "***"
   ]
  },
  {
   "cell_type": "markdown",
   "metadata": {},
   "source": [
    "Algunas evidencias de la validez se basan en el concepto de correlación, como son la validez convergente y discriminante al ser evaluadas con las Matrices MultiMétodo-MultiRasgo (MM-MR), o la validez de criterio, calculada como la relación entre el test y una variable externa. En esta lección vamos a ver cómo realizar los cálculos con R en estas situaciones.\n",
    "\n",
    "> __Aviso__, para aprovechar bien de los contenidos de esta lección es necesario haber leído previamente las lecturas de teoría."
   ]
  },
  {
   "cell_type": "markdown",
   "metadata": {},
   "source": [
    "# 1. Matrices Multi-Método Multi-Rasgo\n",
    "\n",
    "Empecemos cargando los datos del fichero llamado _mmmr.csv_ que contiene un ejemplo para calcular esta matriz\n",
    "\n",
    "__Ejercicio 1:__ Importa los datos del fichero _mmmr.csv_ y llámalos _datos_ y visualizalo"
   ]
  },
  {
   "cell_type": "code",
   "execution_count": null,
   "metadata": {},
   "outputs": [],
   "source": [
    "# Introduce aquí el código (para ejecutarlo pulsa Ctr+Enter)\n",
    "\n"
   ]
  },
  {
   "cell_type": "markdown",
   "metadata": {},
   "source": [
    "El fichero contiene 6 variables, que son el resultado de dos test (T1 y T2) midiendo los rasgos de Extroversión (E), Neuroticismo (N) y Control (C):\n",
    "\n",
    "* T1.E: Test 1 midiendo el rasgo Extroversión\n",
    "* T1.N: Test 1 midiendo el rasgo Neuroticismo\n",
    "* T1.C: Test 1 midiendo el rasgo Control\n",
    "* T2.E: Test 2 midiendo el rasgo Extroversión\n",
    "* T2.N: Test 2 midiendo el rasgo Neuroticismo\n",
    "* T2.C: Test 2 midiendo el rasgo Control\n",
    "\n",
    "Para construir una matriz MM-MR tenemos que calcular las correlaciones de todas las variables con todas, y eso es exactamente lo que hace la función _cor()_\n",
    "\n",
    "```R\n",
    "  cor(datos)\n",
    "\n",
    "``` \n",
    "\n",
    "__Ejercicio 2:__ Calcula la matriz de correlaciones de todas las variables"
   ]
  },
  {
   "cell_type": "code",
   "execution_count": null,
   "metadata": {},
   "outputs": [],
   "source": [
    "# Introduce aquí el código (para ejecutarlo pulsa Ctr+Enter)\n",
    "\n"
   ]
  },
  {
   "cell_type": "markdown",
   "metadata": {},
   "source": [
    "Si lo has calculado correctamente ya tienes todas las correlaciones que necesitas para interpretar los tipos de validez convergente y discriminante. Por ejemplo, en la intersección entre T1.E y T1.N (0.3632) tenemos una validez discriminante, ya que es la misma técnica (T1) pero con dos rasgos distintos (E y N). Y en la intesección entre T1.E y T2.E (0.0637) tenemos una validez convergente, ya que tenemos dos técnicas distintas (T1 y T2) midiendo el mismo rasgo (E).\n",
    "\n",
    "Recuerda que para interpretar si la validez es buena o mala seguimos la siguiente lógica:\n",
    "\n",
    "* Validez Convergente: Es buena si es __ALTA__.\n",
    "* Validez Discriminante: Es buena si es __BAJA__.\n",
    "\n",
    "Por lo que en el ejemplo anterior la discrimiante es buena (0.3632 es bastante baja) pero la convergente sería horrible (0.0637 es muy muy baja cuando debería ser alta).\n"
   ]
  },
  {
   "cell_type": "markdown",
   "metadata": {},
   "source": [
    "# 2. Validez de Criterio\n",
    "\n",
    "En este caso vamos a ver cómo trabajar con R en aquellas situaciones en las que necesitemos calcular la correlación entre un test (al que llamamos x) y un criterio externo (al que llamamos y). Básicamente tenemos dos situaciones distintas:\n",
    "\n",
    "* Calculamos la correlación entre X e Y para saber cómo de relacionados están (validez de criterio)\n",
    "* Intentamos pronosticar el valor en Y conociendo el valor en X\n",
    "\n",
    "En ambos casos necesitamos un fichero de datos que contenga las variables x e y.\n",
    "\n",
    "\n",
    "__Ejercicio 3:__ Importa el fichero _criterio.csv_, guárdalo en el objeto _datos_ y visualízalo\n"
   ]
  },
  {
   "cell_type": "code",
   "execution_count": null,
   "metadata": {},
   "outputs": [],
   "source": [
    "# Introduce aquí el código (para ejecutarlo pulsa Ctr+Enter)\n",
    "\n"
   ]
  },
  {
   "cell_type": "markdown",
   "metadata": {},
   "source": [
    "El fichero que acabas de cargar simplemente tiene dos variables:\n",
    "* __x__: la puntuación empírica o total en el test\n",
    "* __y__: la puntuación en el criterio"
   ]
  },
  {
   "cell_type": "markdown",
   "metadata": {},
   "source": [
    "## 2.1. Correlación entre x e y\n",
    "\n",
    "Aquí hay muy poco que explicar, ya que se explicó todo en la lección sobre estadísticos descriptivos (lección 2.1). Una sintaxis que podría valernos sería:\n",
    "\n",
    "```\n",
    "  plot(datos$x, datos$y) # creamos el grafico de dispersion\n",
    "  cor(datos$x, datos$y) # calculamos la correlacion entre las variables\n",
    "```\n",
    "\n",
    "__Ejercicio 4:__ haz un gráfico de dispersión y calcula la validez de criterio"
   ]
  },
  {
   "cell_type": "code",
   "execution_count": null,
   "metadata": {},
   "outputs": [],
   "source": [
    "# Introduce aquí el código (para ejecutarlo pulsa Ctr+Enter)\n",
    "\n"
   ]
  },
  {
   "cell_type": "markdown",
   "metadata": {},
   "source": [
    "Ahora sabemos que la validez de criterio entre el test y el criterio es de 0.60 y podríamos contestar a cualquier pregunta que nos hicieran en teoría, por ejemplo: Sabiendo que la fiabilidad del test es 0.7 ($\\rho_{xx'}=0.7$) y la del criterio 0.6 (($\\rho_{yy'}=0.6$) ¿Cuál sería la validez del test en una situación de medición perfecta?\n",
    "\n",
    "\n",
    "Pues si la fórmula de la atenuación nos dice:\n",
    "\n",
    "$$\\rho_{XY} = \\frac{\\rho{xy} \\sqrt{\\rho_{XX'}} \\sqrt{\\rho_{YY'}}}{\\sqrt{\\rho_{xx'}} \\sqrt{\\rho_{yy'}}} $$\n",
    "\n",
    "Y una situación de medición perfecta implica que $\\rho_{XX'}=1$ y $\\rho_{YY'}=1$ entonces con R podríamos crear la siguiente sintaxis para calcularlo\n",
    "\n",
    "```\n",
    "  validez <- cor(datos$x, datos$y) \n",
    "  validezFinal <- validez/(sqrt(0.7) * sqrt(0.6))\n",
    "  validezFinal\n",
    "```\n",
    "\n",
    "__Ejercicio 5:__ Calcula la validez final de este ejemplo para un caso de fiabilidad perfecta"
   ]
  },
  {
   "cell_type": "code",
   "execution_count": null,
   "metadata": {},
   "outputs": [],
   "source": [
    "# Introduce aquí el código (para ejecutarlo pulsa Ctr+Enter)\n",
    "\n"
   ]
  },
  {
   "cell_type": "markdown",
   "metadata": {},
   "source": [
    "Si lo has calculado bien habrás obtenido un valor de 0.9258"
   ]
  },
  {
   "cell_type": "markdown",
   "metadata": {},
   "source": [
    "## 2.1. Pronóstico en y conociendo el valor en x\n",
    "\n",
    "En este caso debemos calcular la recta de regresión de x sobre y, lo que es muy fácil en R usando la función _lm()_ (_lm significa linear model_). Fíjate en la sintaxis:\n",
    "\n",
    "```\n",
    "  # calculamos la recta de regresion para y\n",
    "  rectay <- lm(datos$y ~ datos$x)\n",
    "\n",
    "  # hacemos un gráfico para verla\n",
    "  plot(datos$y, datos$x) # creamos el grafico de dispersion\n",
    "  abline(rectay) # añadimos la recta al grafico\n",
    "```\n",
    "\n",
    "Una vez creada la recta de regresión podemos pedirle que nos diga los valores de los coeficientes y dos de otros descriptivos con la función _summary()_\n",
    "\n",
    "```\n",
    "  summary(rectay)\n",
    "```\n",
    "\n",
    "__Ejercicio 6:__ Construye la recta de regresión de y sobre x, dibújala y muestra los valores de los coeficientes"
   ]
  },
  {
   "cell_type": "code",
   "execution_count": null,
   "metadata": {},
   "outputs": [],
   "source": [
    "# Introduce aquí el código (para ejecutarlo pulsa Ctr+Enter)\n",
    "\n"
   ]
  },
  {
   "cell_type": "markdown",
   "metadata": {},
   "source": [
    "El resumen que hemos obtenido de esta recta es el siguiente:\n",
    "\n",
    "```\n",
    "    Call:\n",
    "    lm(formula = datos$y ~ datos$x)\n",
    "\n",
    "    Residuals:\n",
    "         Min       1Q   Median       3Q      Max \n",
    "    -25.7227  -4.7897   0.7438   5.5776  21.3840 \n",
    "\n",
    "    Coefficients:\n",
    "                Estimate Std. Error t value Pr(>|t|)    \n",
    "    (Intercept) 80.96834    4.70594  17.206  < 2e-16 ***\n",
    "    datos$x      0.55335    0.07734   7.155 2.07e-10 ***\n",
    "    ---\n",
    "    Signif. codes:  0 '***' 0.001 '**' 0.01 '*' 0.05 '.' 0.1 ' ' 1\n",
    "\n",
    "    Residual standard error: 8.19 on 91 degrees of freedom\n",
    "    Multiple R-squared:   0.36,\tAdjusted R-squared:  0.353 \n",
    "    F-statistic: 51.19 on 1 and 91 DF,  p-value: 2.068e-10\n",
    "```\n",
    "> No te preocupes por el mensaje de warning en rojo, todo está bien\n",
    "\n",
    "Los coeficientes están bajo el epígrafe __Estimate__ y son 80.96 para la ordenada en el origen (el término a) y 0.55 para el coeficiente de x (el término b), por lo que la recta final sería:\n",
    "\n",
    "$$ y' = 80.96 + 0.55 x $$\n",
    "\n",
    "Debajo de __Pr(>|t|)__ vienen los p_valor para los contrastes individuales de los coeficientes, cada contraste pone a prueba la $H_0$ de que ese coeficiente es igual a cero, por lo que al rechazarla nos indica que la ecuación necesita ese término.\n",
    "\n",
    "Además nos informa del $R^2$ que en nuestro caso ha sido de 0.353 (siempre mirad el ajustado, _Adjusted R-squared:_) por lo que podemos explicar el 35.3% del criterio y conociendo la puntuación en el test x.\n",
    "\n",
    "Una vez que conocemos el coeficiente de determinación (no es más que el $ R^2 $) resulta trivial conocer el índice de eficiencia (E) y el de alienación (K), ya que son derivados de él\n",
    "\n",
    "$$\\text{Indice de Eficiencia: }E = 1 - \\sqrt{1 - r_{xy}^2} = 1 - \\sqrt{1 - 0.353}$$\n",
    "\n",
    "$$\\text{Coeficiente de Alienación: }K = \\sqrt{1 - r_{xy}^2} = \\sqrt{1 - 0.353}$$\n",
    "\n",
    "__Ejercicio 7:__ Calcula los coeficientes de Eficiencia y Alienación para nuestra recta"
   ]
  },
  {
   "cell_type": "code",
   "execution_count": null,
   "metadata": {},
   "outputs": [],
   "source": [
    "# Introduce aquí el código (para ejecutarlo pulsa Ctr+Enter)\n",
    "\n"
   ]
  },
  {
   "cell_type": "markdown",
   "metadata": {},
   "source": [
    "Los valores que has obtenido son de 0.195 para el de Eficiencia y 0.804 para el de Alienación\n",
    "\n",
    "Para terminar, una última cosa que se puede hacer es pronósticar la puntuación en y conociendo el valor en x. Por ejemplo, el primer sujeto ha tenido un valor en x de 75, ¿cuánto le pronosticaríamos en y?\n",
    "\n",
    "La solución más obvia es utilizar los coeficientes de la recta de regresión:\n",
    "\n",
    "```R\n",
    "    y = 80.96 + 0.55 * 75\n",
    "    y\n",
    "```\n",
    "\n",
    "pero R nos lo hace más fácil, la lfunción predict() nos dará las predicciones para todos los sujetos\n",
    "\n",
    "```R\n",
    "   predict(rectay)\n",
    "```\n",
    "\n",
    "__Ejercicio 8:__ Pronostica el valor en y para todos los sujetos"
   ]
  },
  {
   "cell_type": "code",
   "execution_count": null,
   "metadata": {},
   "outputs": [],
   "source": [
    "# Introduce aquí el código (para ejecutarlo pulsa Ctr+Enter)\n",
    "\n"
   ]
  },
  {
   "cell_type": "markdown",
   "metadata": {},
   "source": [
    "***\n",
    "## Soluciones a los ejercicios:\n",
    "***\n",
    " \n",
    "\n",
    "<details>\n",
    "<summary> Click para ver las soluciones </summary>\n",
    "\n",
    "\n",
    "__Ejercicio 1:__\n",
    "```\n",
    "    datos <- read.csv(file=\"datos/mmmr.csv\", header=TRUE, sep=\";\", dec =\",\")\n",
    "    datos\n",
    "```\n",
    "\n",
    " __Ejercicio 2:__\n",
    "```R\n",
    "    cor(datos)\n",
    "```\n",
    "\n",
    "__Ejercicio 3:__\n",
    "```R\n",
    "    datos <- read.csv(file=\"datos/criterio.csv\", header=TRUE, sep=\";\", dec =\",\")\n",
    "    datos \n",
    "```\n",
    "\n",
    "__Ejercicio 4:__\n",
    "```\n",
    "    plot(datos$x, datos$y) # creamos el grafico de dispersion\n",
    "    cor(datos$x, datos$y) # calculamos la correlacion entre las variables\n",
    "```\n",
    "\n",
    "__Ejercicio 5:__\n",
    "```\n",
    "    validez <- cor(datos$x, datos$y) \n",
    "    validezFinal <- validez/(sqrt(0.7) * sqrt(0.6))\n",
    "    validezFinal\n",
    "```\n",
    "\n",
    "__Ejercicio 6:__\n",
    "```\n",
    "    # calculamos la recta de regresion para y\n",
    "    rectay <- lm(datos$y ~ datos$x)\n",
    "\n",
    "    # hacemos un gráfico para verla\n",
    "    plot(datos$x, datos$y) # creamos el grafico de dispersion\n",
    "    abline(rectay) # añadimos la recta al grafico\n",
    "\n",
    "    summary(rectay)\n",
    "```\n",
    "\n",
    "__Ejercicio 7:__\n",
    "```\n",
    "    1 - sqrt(1 - 0.353)\n",
    "    sqrt(1 - 0.353)\n",
    "```\n",
    "__Ejercicio 8:__\n",
    "```\n",
    "    predict(rectay)\n",
    "```\n",
    "\n",
    "</details>"
   ]
  },
  {
   "cell_type": "markdown",
   "metadata": {},
   "source": [
    "***\n",
    "\n",
    "<div align=\"right\">\n",
    "  Enero de 2020 |\n",
    "  <a href=\"autores.html\"> AUTORES <a>\n",
    "</div> \n",
    "\n"
   ]
  }
 ],
 "metadata": {
  "kernelspec": {
   "display_name": "R",
   "language": "R",
   "name": "ir"
  },
  "language_info": {
   "codemirror_mode": "r",
   "file_extension": ".r",
   "mimetype": "text/x-r-source",
   "name": "R",
   "pygments_lexer": "r",
   "version": "3.6.1"
  }
 },
 "nbformat": 4,
 "nbformat_minor": 2
}
