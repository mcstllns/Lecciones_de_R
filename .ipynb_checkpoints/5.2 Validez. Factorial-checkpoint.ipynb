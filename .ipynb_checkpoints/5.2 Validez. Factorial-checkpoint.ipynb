{
 "cells": [
  {
   "cell_type": "markdown",
   "metadata": {},
   "source": [
    "<h1 style=\"font-size:300%;font-family:verdana;color:navy;\">LECCIÓN 5.2. </h1>\n",
    "<h1 style=\"font-size:150%;font-family:verdana;color:navy;\">Validez Factorial</h1>\n",
    "    \n",
    "***"
   ]
  },
  {
   "cell_type": "markdown",
   "metadata": {},
   "source": [
    "Existen infinidad de maneras distintas de calcular un Análisis Factorial Exploratorio (AFE) en R. La que voy a mostraros aquí es un procedimiento bastante extendido basado en funciones incluídas en el paquete __psych__, pero pueden utilizarse otros igualmente válidos. Vamos a proceder paso a paso\n",
    "\n",
    "> __Aviso:__ Para un completo aprovechamiento de la lección es imprescindible haber leído primero el documento de teoría sobre el análisis factorial.\n"
   ]
  },
  {
   "cell_type": "markdown",
   "metadata": {},
   "source": [
    "# 1. Importar el fichero de datos\n",
    "\n",
    "Vamos a trabajar con un fichero de datos llamado _factorial.csv_ y lo vamos a guardar en un data frame llamado __datos__. Lo hemos hecho tantas veces que no es necesario explicarlo.\n",
    "\n",
    "Este fichero contiene 10 variables, que son las siguientes: alegria, egoismo, felicidad, miedo, confianza, frustracion, optimismo, rencor, vitalidad y desconfianza. Cada una de estas variables representa una pregunta en un cuestionario sobre emociones en la que preguntamos a los sujetos cómo de relevante es esa emoción en su vida cotidiana. Las respuestas de los sujetos van de 0 a 10.\n",
    "\n",
    "> Son datos simulados (generados artificialmente) con finalidad didáctica\n",
    "\n",
    "__Ejercicio 1:__ Importa los datos del fichero _factorial.csv_ y llámalos _datos_ y visualízalo"
   ]
  },
  {
   "cell_type": "code",
   "execution_count": null,
   "metadata": {},
   "outputs": [],
   "source": [
    "# Introduce aquí el código (para ejecutarlo pulsa Ctr+Enter)\n",
    "\n"
   ]
  },
  {
   "cell_type": "markdown",
   "metadata": {},
   "source": [
    "# 2. Determinar el número de factores a extraer\n",
    "\n",
    "Es imprescindible saber cuántos factores van a componer la solución final, es decir, cuántos factores voy a acabar reteniendo. Existen infinidad de criterios para determinar ese número (la regla de Kaiser, el porcentaje de varianza explicada, etc.) pero nosotros vamos a utilizar el algoritmo __parallel__. Este algoritmo, como todos los demás, supone una simplificación, pero es necesaria para no complicar la lección en exceso al alumno.\n",
    "\n",
    "Para calcular parallel simplemente ejecutamos la sintaxis:\n",
    "\n",
    "\n",
    "```R\n",
    "    library(psych)\n",
    "    fa.parallel(datos, fm = \"minres\")\n",
    "``` \n",
    "\n",
    "Como la función fa.parallel pertenece al paquete __psych__ tenemos que cargarlo antes de usarla. El argumento _fm=\"minres\"_ le indica que vamos a utilizar el método de residuos mínimos, el cuál, sin entrar en detalles, es razonablemente robusto para la mayoría de ocasiones.\n",
    "\n",
    "__Ejercicio 2:__ Realiza un análisis paralelo con la función _fa.parallel()_"
   ]
  },
  {
   "cell_type": "code",
   "execution_count": null,
   "metadata": {},
   "outputs": [],
   "source": [
    "# Introduce aquí el código (para ejecutarlo pulsa Ctr+Enter)\n",
    "\n"
   ]
  },
  {
   "cell_type": "markdown",
   "metadata": {},
   "source": [
    "A parte del gráfico, lo que nos interesa es el siguiente texto:\n",
    "\n",
    "```\n",
    "Parallel analysis suggests that the number of factors =  2  and the number of components =  2 \n",
    "```\n",
    "\n",
    "Esto lo podemos traducir como que parallel nos sugiere que calculemos un factorial reteniendo dos factores (__factors = 2__) y es lo que vamos a hacer."
   ]
  },
  {
   "cell_type": "markdown",
   "metadata": {},
   "source": [
    "# 3. Calculamos el factorial\n",
    "\n",
    "Vamos a llevar a cabo nuestro análisis factorial usando la función _fa()_ del paquete __psych__. Fíjate en la siguiente sintaxis\n",
    "\n",
    "```R\n",
    "    fa(datos, nfactors=2, fm=\"minres\", rotate=\"oblimin\")\n",
    "``` \n",
    "\n",
    "De esta manera le estamos diciendo que con el data frame llamado datos calcule un análisis factorial extrayendo 2 factores (_nfactors=2_). Que utilice el método de residuos mínimos (_fm=\"minres\"_) y que lleve a cabo una rotación oblicua por el método \"oblimin\" (_rotate=\"oblimin\"_).\n",
    "\n",
    "La elección del método de residuos mínimos es por simplificar las explicaciones del curso y no complicar excesivamente los contenidos, pero en el futuro, cuando el alumno desee realizar sus propios análisis factoriales, debería evaluar si es el método de extracción más adecuado para sus necesidades.\n",
    "\n",
    "Lo mismo ocurre para la rotación, hemos elegido la rotación \"oblimin\" porque es la que por defecto utiliza _fa()_ y tiene batante sentido en variables psicológicas, ya que dificilmente podemos pensar que tendremos rasgos realmente independientes entre sí. Pero en el futuro el alumno deberá evaluar lo adecuado de este método de rotación.\n",
    "\n",
    "Para hacer más clara e interpretable la salida del factorial podemos utilizar la siguiente sintaxis\n",
    "\n",
    "\n",
    "```R\n",
    "    f1 <- fa(datos, nfactors=2, fm=\"minres\", rotate=\"oblimin\")\n",
    "    print.psych(f1,cut=0.1, sort=TRUE)\n",
    "``` \n",
    "\n",
    "En ella guardo los resultados en un objeto llamado __f1__ y luego lo visualizamos usando la función _print.psych()_. La ventaja de esta visualización es que reordena las variables y los factores para que nos sea más cómodo aportar un significado teórico.\n",
    "\n",
    "__Ejercicio 3:__ lleva a cabo un análisis factorial como se explica en el texto y visualiza los resultados con la función print.psych()\n"
   ]
  },
  {
   "cell_type": "code",
   "execution_count": null,
   "metadata": {},
   "outputs": [],
   "source": [
    "# Introduce aquí el código (para ejecutarlo pulsa Ctr+Enter)\n",
    "\n"
   ]
  },
  {
   "cell_type": "markdown",
   "metadata": {},
   "source": [
    "# 4. Interpretación del análisis factorial\n",
    "\n",
    "Como puedes ver la salida es bastante extensa, vayamos interprendo parte por parte para extraer toda la información relevante.\n",
    "\n",
    "## 4.1. La varianza explicada\n",
    "\n",
    "La cantidad de varianza explicada se encuentra en esta tabla\n",
    "\n",
    "```\n",
    "                           MR1  MR2\n",
    "    SS loadings           3.10 3.00\n",
    "    Proportion Var        0.31 0.30\n",
    "    Cumulative Var        0.31 0.61\n",
    "    Proportion Explained  0.51 0.49\n",
    "    Cumulative Proportion 0.51 1.00\n",
    "```\n",
    " \n",
    "En ella vemos que el primer factor expica el 31% (0.31) de la varianza (cruce entre Proportion Var y MR1) y que el segundo explica el 30% (0.30) de la varianza (cruce entre Proportion Var y MR2). Lo que acumulado indica que explicamos con los dos factores el 61% (0.61). Ese porcentaje es bastante bueno.\n",
    "\n",
    "## 4.2. Correlación entre los factores\n",
    "\n",
    "Mira la siguiente tabla de la salida\n",
    "\n",
    "```\n",
    "    With factor correlations of \n",
    "          MR1   MR2\n",
    "    MR1  1.00 -0.02\n",
    "    MR2 -0.02  1.00\n",
    "```\n",
    "\n",
    "Nos informa de la correlación que existe entre los factores que hemos extraído. Como se ve, la correlación entre MR1 y MR2 es -0.02, lo que es prácticamente nula. Esto nos indica que, contrariamente a nuestra suposición inicial, los factores han resultado ortogonales e independientes entre sí. Si quisiésemos (aunque no lo haremos) repetir el análisis cambiando el tipo de rotación de oblicua a ortogonal (como por ejemplo una rotación _varimax_) sería correcto.\n",
    "\n",
    "## 4.3. Indicadores de calidad\n",
    "\n",
    "La salida nos aporta un montón de índices que nos informan si los resultados se ajustan adecuadamente o no a nuestros datos. Estos índices no son del tipo Sí/No, Bueno/Malo sino que son valores continuos que hay que interpretar, cuanto más cerca de una valor óptimo mejor nuestro análisis. Los principales los resumo en la siguiente tabla:\n",
    "\n",
    "\n",
    " Indice | Valor óptimo | Nuestro valor\n",
    "-----|----------------|--------------\n",
    " RMSR   |        0       |       0.01\n",
    " RMSEA   |        0      |       0.02\n",
    " Tuckey   |       1       |      1.005\n",
    " \n",
    "Fíjate que los índices de RMSR y RMSEA son mejores cuanto más bajos son (más cercanos a 0) y para nuestros datos es lo que ocurre, ambos están muy cercanos a 0.\n",
    " \n",
    "El valor del índice de Tukey va justo al contrarío, cuanto más se acerque a 1 mejor es el ajuste. En nuestro caso obtenemos un valor de 1.005 (incluso más alto, esto se explicará en clase).\n",
    " \n",
    "## 4.4. Significado de los factores\n",
    "\n",
    "Vamos a tratar de buscarle un significado a los factores, para ello debemos interpretar la matriz de saturaciones\n",
    "```\n",
    "                item   MR1   MR2   h2   u2 com\n",
    "    confianza       5  0.80       0.64 0.36   1\n",
    "    alegria         1  0.79       0.63 0.37   1\n",
    "    felicidad       3  0.79       0.63 0.37   1\n",
    "    vitalidad       9  0.78       0.60 0.40   1\n",
    "    optimismo       7  0.77       0.59 0.41   1\n",
    "    frustracion     6        0.81 0.66 0.34   1\n",
    "    miedo           4        0.77 0.60 0.40   1\n",
    "    egoismo         2        0.76 0.58 0.42   1\n",
    "    rencor          8        0.76 0.59 0.41   1\n",
    "    desconfianza   10        0.76 0.58 0.42   1\n",
    "```\n",
    "\n",
    "En la columna MR1 tenemos el primer factor y en la columna MR2 el segundo. A la izquierda tenemos nuestras variables y en cada casilla tenemos la _saturación_ de la variable en cada factor. Por ejemplo, la variable _confianza_ tiene una saturación de 0.80 en MR1. Esta saturación se interpreta como \"la fuerza\" o relación que existe entre una variable y un factor, por ejemplo ese 0.80 indica que la confianza está fuertemente relacionada con MR1, mientras que apenas tiene relación con MR2.\n",
    "\n",
    "Fíjate en dos cosas importants: las variables han sido reordenadas de mayor a menor de tal forma que pertenezcan a uno de los factores, esto lo hace la función _print.psych()_ y ayuda a interpretar la asociación de las variables con los factores. Lo segundo es que cuando las saturaciones son menores de 0.1 no aparecen, esto \"limpia\" la matriz y la hace más interpetable.\n",
    "\n",
    "Las columnas h2 y u2 son la comunalidad y unicidad respectivamente, pero no nos interesan.\n",
    "\n",
    "Mira las variables que saturan fuerte en el primer factor (MR1), son: confianza, alegría, felicidad, vitalidad, optimismo. Y mira las variables que saturan fuerte en el segundo factor (MR2): frustración, miedo, egoismo, rencor, desconfianza.\n",
    "\n",
    "Piensa en ello, ¿hay algo que tengan en común entre ellas las variables del primer factor y algo que tengan en común entre ellas las variables del segundo factor? La respuesta es directa, el primer factor está relacionado con sentimientos positivos y el segundo con sentimientos negativos.\n",
    "\n",
    "Y así es cómo se le asigna un significado a un factor, viendo qué tienen en común las variables que saturan fuerte en el, por oposición a las variables que no saturan en él. En nuestro análisis podríamos concluir lo siguiente:\n",
    "\n",
    "> El 61% de información que contienen estos datos está resumida en dos factores, uno que refleja las emociones positivas, que explica el 31% de la varianza y que está relacionado con las variables: confianza, alegría, felicidad, vitalidad y optimismo. El segundo factor explica el 30%, parece reflejar las emociones negativas y está relacionado con las variables: frustración, miedo, egoismo, rencor y desconfianza. Ambos factores parecen bastante independientes entre sí, presentando una correlación de -0.02. Los indicadores de calidad muestran  que una solución de dos factores es altamente compatible con nuestros datos empíricos.\n"
   ]
  },
  {
   "cell_type": "markdown",
   "metadata": {},
   "source": [
    "***\n",
    "## Soluciones a los ejercicios:\n",
    "***\n",
    " \n",
    "\n",
    "<details>\n",
    "<summary> Click para ver las soluciones </summary>\n",
    "\n",
    "__Ejercicio 1:__\n",
    "```\n",
    "    datos <- read.csv(file=\"datos/factorial.csv\", header=TRUE, sep=\";\", dec =\",\")\n",
    "    datos\n",
    "```\n",
    "\n",
    " __Ejercicio 2:__\n",
    "```R\n",
    "    library(psych)\n",
    "    fa.parallel(datos, fm = \"minres\")\n",
    "```\n",
    "\n",
    "__Ejercicio 3:__\n",
    "```R\n",
    "    f1 <- fa(datos, nfactors=2, fm=\"minres\", rotate=\"oblimin\")\n",
    "    print.psych(f1,cut=0.1, sort=TRUE) \n",
    "```\n",
    "\n",
    "</details>"
   ]
  },
  {
   "cell_type": "markdown",
   "metadata": {},
   "source": [
    "***\n",
    "\n",
    "<div align=\"right\">\n",
    "  Enero de 2020 |\n",
    "  <a href=\"autores.html\"> AUTORES <a>\n",
    "</div> \n"
   ]
  }
 ],
 "metadata": {
  "kernelspec": {
   "display_name": "R",
   "language": "R",
   "name": "ir"
  },
  "language_info": {
   "codemirror_mode": "r",
   "file_extension": ".r",
   "mimetype": "text/x-r-source",
   "name": "R",
   "pygments_lexer": "r",
   "version": "3.6.1"
  }
 },
 "nbformat": 4,
 "nbformat_minor": 2
}
