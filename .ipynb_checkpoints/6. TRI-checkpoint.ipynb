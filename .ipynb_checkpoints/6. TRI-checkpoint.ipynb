{
 "cells": [
  {
   "cell_type": "markdown",
   "metadata": {},
   "source": [
    "<h1 style=\"font-size:300%;font-family:verdana;color:navy;\">LECCIÓN 6. </h1>\n",
    "<h1 style=\"font-size:150%;font-family:verdana;color:navy;\">Teoría de Respuesta al Item</h1>\n",
    "    \n",
    "***"
   ]
  },
  {
   "cell_type": "markdown",
   "metadata": {},
   "source": [
    "En esta lección vamos a explicar cómo estimar los modelos de la __TRI__ utilizando R, para ello necesitaremos cargar el paquete __ltm__.\n",
    "\n",
    "> __Aviso:__ Al igual que en las lecciones anteriores es imprescindibles que hayas estudiado previamente el material de teoría para que puedas aprovechar completamente la explicación.\n",
    "\n",
    "Como siempre antes de empezar vamos a cargar unos datos de ejemplo.\n",
    "\n",
    "__Ejercicio:__ Importa el fichero _TRI.csv_ llamándalo __datos__ y visualizalo."
   ]
  },
  {
   "cell_type": "code",
   "execution_count": null,
   "metadata": {},
   "outputs": [],
   "source": [
    "# Introduce aquí el código (para ejecutarlo pulsa Ctr+Enter)\n",
    "\n"
   ]
  },
  {
   "cell_type": "markdown",
   "metadata": {},
   "source": [
    "Como ves el test cuenta con 10 items, llamados desde V1 a V10, y estos son dicotómicos, por lo que son perfectos para aplicar los distintos modelos de la TRI con ellos.\n",
    "\n",
    "Lo primero que tenemos que comprobar es si cumplimos el supuesto de unidimensionalidad."
   ]
  },
  {
   "cell_type": "markdown",
   "metadata": {},
   "source": [
    "## 6.1. Unidimensionalidad\n",
    "\n",
    "Lo primero que tenemos que comprobar es si cumplimos el supuesto de unidimensionalidad con nuestros ítems. Esto se puede hacer realizando un análisis factorial y comprobando si realmente es sostenible la hipótesis de que un único factor es suficiente para explicar los datos.\n",
    "\n",
    "Como ya hemos visto cómo hacerlo en lecciones anteriores no lo volveremos a explicar. __Ahora simplemente trabajaremos suponiendo que es así, y que cumplimos el supuesto de unidimensionalidad.__\n",
    "\n",
    "> Esta es forma de proceder que utiizaremos por defecto durante el curso, comprobaremos el supuesto pero independientemente de que exista o no unidimensionalida trabajaremos con los datos como si sí la hubiese. Esto es porque en realidad la TRI es bastante robusta a esa violación y porque las alternativas (modelos multidimensionales o eliminación de items dispares) están fuera de los objetivos de este curso."
   ]
  },
  {
   "cell_type": "markdown",
   "metadata": {},
   "source": [
    "## 6.2. Estimación del modelo de un parámetro\n",
    "\n",
    "Antes de estimar cualquier modelo necesitamos cargar la librería __ltm__, para ello utilizamos la función _library()_\n",
    "\n",
    "```R\n",
    "  library(ltm)\n",
    "``` \n",
    "\n",
    "Una vez cargada podemos estimar el modelo de _rasch_ usando la siguiente sintaxis\n",
    "\n",
    "\n",
    "```R\n",
    "  c<-cbind(length(datos) + 1, 1) \n",
    "  m.1p <- rasch(datos, constraint=c)\n",
    "  summary(m.1p)\n",
    "``` \n",
    "\n",
    "Fíjate en la parte final del código que es la más sencilla \n",
    "\n",
    "```R\n",
    "  m.1p <- rasch(datos, constraint=c)\n",
    "  summary(m.1p)\n",
    "``` \n",
    "En la primera linea calculamos el modelo de Rasch y lo asignamos al objeto m.1p y en la segunda visualizamos esos resultados.\n",
    "\n",
    "Ahora fíjate en el argumento _constraint = c_ voy a explicarlo: En realidad pueden existir dos modelos de Rasch, en el primero dejamos que varíen la dificultad de los items y hacemos que su pendiente sea para todos igual a 1, a este se le llama __modelo de rasch restringido__. Pero existe un segundo modelo de Rasch, es aquel en el que todas las pendientes de los items son iguales entre sí, pero ese valor no tiene que ser igual a 1, puede ser el que sea (pero el mismo para todos los items). A este modelo lo llamaremos __modelo de rasch no restringido__.\n",
    "\n",
    "Con la sitaxis anterior construiremos el primero de ellos, un modelo en el que todas las pendientes de los items serán igual a 1\n",
    "\n",
    "\n",
    "__Ejercicio 2:__ Carga la librería ltm y calcula el modelo de rasch restringido para nuestros 10 items"
   ]
  },
  {
   "cell_type": "code",
   "execution_count": null,
   "metadata": {},
   "outputs": [],
   "source": [
    "# Introduce aquí el código (para ejecutarlo pulsa Ctr+Enter)\n",
    "\n"
   ]
  },
  {
   "cell_type": "markdown",
   "metadata": {},
   "source": [
    "Mira los resultados, habrás obtenido exactamente esto\n",
    "\n",
    "```\n",
    "    Call:\n",
    "    rasch(data = datos, constraint = c)\n",
    "\n",
    "    Model Summary:\n",
    "       log.Lik      AIC      BIC\n",
    "     -6010.526 12041.05 12090.13\n",
    "\n",
    "    Coefficients:\n",
    "                 value std.err   z.vals\n",
    "    Dffclt.V1  -0.5865  0.0773  -7.5846\n",
    "    Dffclt.V2   0.1573  0.0757   2.0772\n",
    "    Dffclt.V3   0.5568  0.0772   7.2092\n",
    "    Dffclt.V4  -0.1628  0.0757  -2.1511\n",
    "    Dffclt.V5   0.1242  0.0757   1.6421\n",
    "    Dffclt.V6  -1.6555  0.0909 -18.2026\n",
    "    Dffclt.V7  -0.8047  0.0789 -10.1945\n",
    "    Dffclt.V8  -1.8366  0.0949 -19.3568\n",
    "    Dffclt.V9  -0.4105  0.0764  -5.3722\n",
    "    Dffclt.V10 -1.9767  0.0983 -20.1053\n",
    "    Dscrmn      1.0000      NA       NA\n",
    "\n",
    "    Integration:\n",
    "    method: Gauss-Hermite\n",
    "    quadrature points: 21 \n",
    "\n",
    "    Optimization:\n",
    "    Convergence: 0 \n",
    "    max(|grad|): 6e-06 \n",
    "    quasi-Newton: BFGS \n",
    "```\n",
    "\n",
    "Lo que nos interesa son las estimaciones para los parámetros __b__ (dificultad) de nuestros items. Esta viene marcada por las letras \"_Dffclt_\", por ejemplo, el primer item tiene una dificultad de -0.586 y el item 3 una de 0.556, siendo el ítem más dificil de todos (el de valor más alto).\n",
    "\n",
    "Otra cosa que nos interesa es que la pendiente (el parámetro __a__) para todos los items ha sido la misma e igual a 1, como se ve en la línea que pone\n",
    "\n",
    "```\n",
    "    Dscrmn      1.0000      NA       NA\n",
    "```\n",
    "\n",
    "Vamos a calcular el modelo de _rasch no restringido_ para ver cómo ese valor cambia, para ello eliminamos la opción de _constraint = c_\n",
    "\n",
    "```R\n",
    "  m.1pNOrest <- rasch(datos)\n",
    "  summary(m.1pNOrest)\n",
    "``` \n",
    "\n",
    "__Ejercicio 3:__ Calcula el modelo de rasch NO restringido para nuestros 10 items"
   ]
  },
  {
   "cell_type": "code",
   "execution_count": null,
   "metadata": {},
   "outputs": [],
   "source": [
    "# Introduce aquí el código (para ejecutarlo pulsa Ctr+Enter)  \n",
    "\n"
   ]
  },
  {
   "cell_type": "markdown",
   "metadata": {},
   "source": [
    "La interpretación es exactamente la misma, fíjate que ahora el valor de discriminación para todos los items es el mismo, pero distinto a 1, ahora es de 0.684\n",
    "\n",
    "```\n",
    "    Dscrmn      0.6847  0.0363  18.8468\n",
    "```\n",
    "\n",
    "A partir de ahora nos olvidaremos del modelo de rasch no restringido y trabajaremos con el primero, el que mantiene todas las pendientes igual a 1 y que hemos almacenado en el objeto m.1p.\n",
    "\n",
    "Podemos visualizar los items estimados con el modelo de rasch usando la función _plot()_\n",
    "\n",
    "```R\n",
    "  plot(m.1p)\n",
    "``` \n",
    "\n",
    "__Ejercicio 4:__ Haz un gráfico para los resultados del modelo de rasch restringido"
   ]
  },
  {
   "cell_type": "code",
   "execution_count": null,
   "metadata": {},
   "outputs": [],
   "source": [
    "# Introduce aquí el código (para ejecutarlo pulsa Ctr+Enter)  \n",
    "\n"
   ]
  },
  {
   "cell_type": "markdown",
   "metadata": {},
   "source": [
    "Ahora podemos ver gráficamente lo que ya habíamos visto con los resultados. Todos los items son iguales en forma, excepto en su desplazamiento. El más fácil es el item V10 (en rojo) que es el más a la izquierda y el más difícil el V3 (en verde) que es el más a la derecha."
   ]
  },
  {
   "cell_type": "markdown",
   "metadata": {},
   "source": [
    "## 6.3. Estimación del modelo de dos parámetros\n",
    "\n",
    "La sintaxis para este modelo es:\n",
    "\n",
    "```R\n",
    "  m.2p <- ltm(datos~z1)\n",
    "  summary(m.2p)\n",
    "  plot(m.2p)\n",
    "``` \n",
    "\n",
    "Donde directamente estimamos el modelo, obtenemos los resultados y vemos su gráfico. Recuerda que ahora no es necesario cargar la librería __ltm__ porque ya la teníamos cargada de antes.\n",
    "\n",
    "__Ejercicio 5:__ Ejecuta y visualiza el modelo de dos parámetros"
   ]
  },
  {
   "cell_type": "code",
   "execution_count": null,
   "metadata": {},
   "outputs": [],
   "source": [
    "# Introduce aquí el código (para ejecutarlo pulsa Ctr+Enter)    \n",
    "\n"
   ]
  },
  {
   "cell_type": "markdown",
   "metadata": {},
   "source": [
    "Los resultados nos ofrecen ahora las estimaciones tanto del parámetro b (__Dffclt__) como de a (__Dscrmn__). Fíjate cómo ahora los items cambian en forma, tanto en su posición como en su pendiente."
   ]
  },
  {
   "cell_type": "markdown",
   "metadata": {},
   "source": [
    "## 6.4. Estimación del modelo de tres parámetros\n",
    "\n",
    "La sintaxis sería:\n",
    "\n",
    "```R\n",
    "  m.3p <- tpm(datos, type=\"latent.trait\")\n",
    "  summary(m.3p)\n",
    "  plot(m.3p)\n",
    "``` \n",
    "\n",
    "__Ejercicio 6:__ Ejecuta y visualiza el modelo de tres parámetros"
   ]
  },
  {
   "cell_type": "code",
   "execution_count": null,
   "metadata": {},
   "outputs": [],
   "source": [
    "# Introduce aquí el código (para ejecutarlo pulsa Ctr+Enter)    \n",
    "\n"
   ]
  },
  {
   "cell_type": "markdown",
   "metadata": {},
   "source": [
    "Ahora en los resultados nos ofrecen ahora las estimaciones tanto del parámetro b (__Dffclt__) como de a (__Dscrmn__) como de c (__Gussng__, del inglés guessing, adivinar). Fíjate cómo ahora los items cambian en todo, tanto en su posición como en su pendiente, como en el inicio de la función.\n",
    "\n",
    "Podemos apreciar que el item más fácil para acertar al azar es el V6"
   ]
  },
  {
   "cell_type": "markdown",
   "metadata": {},
   "source": [
    "## 6.4. Elección del mejor modelo\n",
    "\n",
    "De los tres modelos que hemos construído (dejemos a parte el de rasch no restringido, que no hemos explicado en la teoría) debemos elegir como definitivo aquel que:\n",
    "\n",
    "> __Explique los datos siendo lo más sencillo posible__\n",
    "   \n",
    "De esto ya hemos hablado con anteriorirdad en el curso, así que no voy a insistir en este concepto.\n",
    "\n",
    "La lógica a utilizar es la siguiente: el modelo más sencillo que tenemos es el modelo m.1p, si lo comparo con el siguiente, el m2.p y no mejora nada la explicación de los datos, debería quedarme con el más sencillo (el m.1p) pero si mejora tendré que quedarme con el m.2p. La misma comparación puedo hacer entre el modelo de 2 y 3 parámetros.\n",
    "\n",
    "Estas comparaciones entre modelos se hacen con la función _anova()_, por ejemplo la sintaxis siguiente compara el 1p con el 2p y el 2p con el 3p. \n",
    "\n",
    "> Aunque parezca extraño la función anova() en R no calcula análisis de varianza, sino que compara modelos\n",
    "\n",
    "```R\n",
    "    anova(m.1p, m.2p)\n",
    "    anova(m.2p, m.3p)\n",
    "``` \n",
    "\n",
    "La hipótesis nula siempre es que los modelos son iguales, por lo que rechazarla implica que el modelo más complejo de la comparación es mejor describiendo los datos\n",
    "\n",
    "__Ejercicio 7:__ Compara los tres modelos que hemos construído entre sí"
   ]
  },
  {
   "cell_type": "code",
   "execution_count": null,
   "metadata": {},
   "outputs": [],
   "source": [
    "# Introduce aquí el código (para ejecutarlo pulsa Ctr+Enter)       \n",
    "\n"
   ]
  },
  {
   "cell_type": "markdown",
   "metadata": {},
   "source": [
    "Al comparar m.1p con m.2p encontramos un p.valor de 0.001 por lo que rechazamos la hipótesis nula y entendemos que el modelo m.2p explica más que el m.1p por lo que deberíamos quedarnos con el m.2p\n",
    "\n",
    "En la segunda comparación (m.2p y m.3p) el p.valor es de 0.966 por lo que ambos modelos son igualmente explicativos. En ese caso preferimos el modelo más sencillo, el m.2p\n",
    "\n",
    "Como conclusión, __con estos datos, debería utilizar el modelo m.2p para describir mis items, porque es el más sencillo que me permite explicar mejor.__\n",
    "\n",
    "A partir de ahora trabajaremos con el modelo elegido, el de dos parámetros __m.2p__"
   ]
  },
  {
   "cell_type": "markdown",
   "metadata": {},
   "source": [
    "## 6.4. Función de información de un modelo\n",
    "\n",
    "Podemos solicitar la función de información de cualquier modelo con la función _plot()_, en nuestro caso como hemos elegido como modelo final al 2p sería:\n",
    "\n",
    "```R\n",
    "    plot(m.2p, type=\"IIC\", items=0)\n",
    "``` \n",
    "\n",
    "Lo anterior va a generarnos un gráfico que podemos iterpretar, pero si necesimos los datos concretos tenemos que utilizar la función _information()_ que nos dirá la cantidad de información que existe en un intervalo solicitado. Por ejemplo:\n",
    "\n",
    "```R\n",
    "    information(m.2p, c(-10,0)) # intervalo de -10 a 0\n",
    "    information(m.2p, c(0,10))  # intervalo de 0 a 10\n",
    "``` \n",
    "\n",
    "Esta sintaxis me dice la cantidad de información que posee el test para valores de theta entre -10 y 0 y para valores entre 0 y 10.\n",
    "\n",
    "Podemos ser más específicos construyendo intervalos más precisos\n",
    "\n",
    "```R\n",
    "    information(m.2p, c(-10,-9))\n",
    "    information(m.2p, c(-9,-8))\n",
    "    information(m.2p, c(-8,-7))\n",
    "    information(m.2p, c(-7,-6))\n",
    "    information(m.2p, c(-6,-5))\n",
    "    information(m.2p, c(-5,-4))\n",
    "    information(m.2p, c(-4,-3))\n",
    "    information(m.2p, c(-3,-2))\n",
    "    information(m.2p, c(-2,-1))\n",
    "    information(m.2p, c(-1,0))\n",
    "\n",
    "    information(m.2p, c(0,1))\n",
    "    information(m.2p, c(1,2))\n",
    "    information(m.2p, c(2,3))\n",
    "    information(m.2p, c(3,4))\n",
    "    information(m.2p, c(4,5))\n",
    "    information(m.2p, c(5,6))\n",
    "    information(m.2p, c(6,7))\n",
    "    information(m.2p, c(7,8))\n",
    "    information(m.2p, c(8,9))\n",
    "    information(m.2p, c(9,10))\n",
    "\n",
    "``` \n",
    "\n",
    "__Ejecicio 8:__ Dibuja la función de información para el modelo 2p e indica en qué intervalo (de una unidad) el test es más preciso"
   ]
  },
  {
   "cell_type": "code",
   "execution_count": null,
   "metadata": {},
   "outputs": [],
   "source": [
    "# Introduce aquí el código (para ejecutarlo pulsa Ctr+Enter)     \n",
    "\n"
   ]
  },
  {
   "cell_type": "markdown",
   "metadata": {},
   "source": [
    "La información más alta se encuentra en el intervalo -1 y 0 con un valor de 1.15 y un porcentaje total del 16.35%. \n",
    "```\n",
    "Call:\n",
    "ltm(formula = datos ~ z1)\n",
    "\n",
    "Total Information = 6.95\n",
    "Information in (-1, 0) = 1.15 (16.53%)\n",
    "Based on all the items\n",
    "```\n",
    "\n",
    "Esto además se ve cláramente en la gráfica que es donde está el máximo de la función de información. Por lo tanto podríamos decir que para valores de theta en ese intervalo es cuando el test comete menos errores."
   ]
  },
  {
   "cell_type": "markdown",
   "metadata": {},
   "source": [
    "## 6.5. Estimación de la zeta de un sujeto\n",
    "\n",
    "Una vez estimado los valores del modelo y ajustado el test se puede empezar a utilizarlo. Esto según la TRI consiste en aplicar un test a un sujeto y, conociendo el patrón de respuestas, asignarle un valor de theta estimado.\n",
    "\n",
    "Podemos obtener todos los patrones posibles de respuesta con la sintaxis\n",
    "\n",
    "```R\n",
    "    factor.scores(m.2p) # paciencia, puede requerir tiempo de calculo\n",
    "``` \n",
    "La salida será similar a esto\n",
    "\n",
    "```\n",
    "    Factor-Scores for observed response patterns:\n",
    "        V1 V2 V3 V4 V5 V6 V7 V8 V9 V10 Obs    Exp     z1 se.z1\n",
    "    1    0  0  0  0  0  0  0  0  0   0   1  0.871 -2.111 0.733\n",
    "    2    0  0  0  0  0  0  0  0  0   1   1  1.248 -1.682 0.715\n",
    "    3    0  0  0  0  0  0  0  0  1   1   2  0.698 -1.371 0.704\n",
    "    ...\n",
    "```\n",
    "En la primera linea vemos que el patrón de respuesta ha sido todo fallos y eso lleva a una theta estimada (z1) de -2.111. En la segunda línea el patrón es todo fallos con un acierto en el item V10, y eso da una theta de -1.682. Y así sucesivamente.\n",
    "\n",
    "La sintaxis anterior nos dará una salida enorme, es más cómodo indicarle exactamente el patrón de respuestas que quiero conocer\n",
    "\n",
    "```R\n",
    "    factor.scores(m.2p, resp.patterns = rbind(c(0,1,1,0,0,0,0,0,0,0)))\n",
    "``` \n",
    "\n",
    "Le estoy pidiendo que me estime la theta para un valor con el siguiente patrón 0,1,1,0,0,0,0,0,0,0, es decir: falla el primero, acierta el segundo, etc...\n",
    "\n",
    "__Ejecicio 9:__ Estima el valor de theta para todos los sujetos y luego para un sujeto que haya acertado todos los items"
   ]
  },
  {
   "cell_type": "code",
   "execution_count": null,
   "metadata": {},
   "outputs": [],
   "source": [
    "# Introduce aquí el código (para ejecutarlo pulsa Ctr+Enter)    \n",
    "\n"
   ]
  },
  {
   "cell_type": "markdown",
   "metadata": {},
   "source": [
    "La theta para ese sujeto con todo aciertos es de 1.34"
   ]
  },
  {
   "cell_type": "markdown",
   "metadata": {},
   "source": [
    "***\n",
    "## Soluciones a los ejercicios:\n",
    "***\n",
    " \n",
    "\n",
    "<details>\n",
    "<summary> Click para ver las soluciones </summary>\n",
    "\n",
    "\n",
    "__Ejercicio 1:__\n",
    "```\n",
    "    datos <- read.csv(file=\"datos/TRI.csv\", header=TRUE, sep=\";\", dec =\",\")\n",
    "    datos\n",
    "```\n",
    "\n",
    " __Ejercicio 2:__\n",
    "```R\n",
    "    library(ltm)\n",
    "\n",
    "    c<-cbind(length(datos) + 1, 1) \n",
    "    m.1p <- rasch(datos, constraint=c)\n",
    "    summary(m.1p)\n",
    "```\n",
    "\n",
    "__Ejercicio 3:__\n",
    "```R \n",
    "    m.1pNOrest <- rasch(datos)\n",
    "    summary(m.1pNOrest)  \n",
    "```\n",
    "\n",
    "__Ejercicio 4:__\n",
    "```\n",
    "    plot(m.1p)\n",
    "```\n",
    "\n",
    "__Ejercicio 5:__\n",
    "```R\n",
    "    m.2p <- ltm(datos~z1)\n",
    "    summary(m.2p)\n",
    "    plot(m.2p)\n",
    "```\n",
    "\n",
    "__Ejercicio 6:__\n",
    "```\n",
    "    m.3p <- tpm(datos, type=\"latent.trait\")\n",
    "    summary(m.3p)\n",
    "    plot(m.3p)\n",
    "```\n",
    "\n",
    "__Ejercicio 7:__\n",
    "```\n",
    "    anova(m.1p, m.2p)\n",
    "    anova(m.2p, m.3p) \n",
    "```\n",
    "__Ejercicio 8:__\n",
    "```\n",
    "    plot(m.2p, type=\"IIC\", items=0)\n",
    "\n",
    "    information(m.2p, c(-10,-9))\n",
    "    information(m.2p, c(-9,-8))\n",
    "    information(m.2p, c(-8,-7))\n",
    "    information(m.2p, c(-7,-6))\n",
    "    information(m.2p, c(-6,-5))\n",
    "    information(m.2p, c(-5,-4))\n",
    "    information(m.2p, c(-4,-3))\n",
    "    information(m.2p, c(-3,-2))\n",
    "    information(m.2p, c(-2,-1))\n",
    "    information(m.2p, c(-1,0))\n",
    "\n",
    "    information(m.2p, c(0,1))\n",
    "    information(m.2p, c(1,2))\n",
    "    information(m.2p, c(2,3))\n",
    "    information(m.2p, c(3,4))\n",
    "    information(m.2p, c(4,5))\n",
    "    information(m.2p, c(5,6))\n",
    "    information(m.2p, c(6,7))\n",
    "    information(m.2p, c(7,8))\n",
    "    information(m.2p, c(8,9))\n",
    "    information(m.2p, c(9,10)) \n",
    "```\n",
    "__Ejercicio 9:__\n",
    "```\n",
    "    factor.scores(m.2p)\n",
    "    factor.scores(m.2p, resp.patterns = rbind(c(1,1,1,1,1,1,1,1,1,1)))\n",
    "```\n",
    "\n",
    "</details>"
   ]
  },
  {
   "cell_type": "markdown",
   "metadata": {},
   "source": [
    "***\n",
    "\n",
    "<div align=\"right\">\n",
    "  Enero de 2020 |\n",
    "  <a href=\"autores.ipynb\"> AUTORES <a>\n",
    "</div> \n"
   ]
  }
 ],
 "metadata": {
  "kernelspec": {
   "display_name": "R",
   "language": "R",
   "name": "ir"
  },
  "language_info": {
   "codemirror_mode": "r",
   "file_extension": ".r",
   "mimetype": "text/x-r-source",
   "name": "R",
   "pygments_lexer": "r",
   "version": "3.6.1"
  }
 },
 "nbformat": 4,
 "nbformat_minor": 2
}
