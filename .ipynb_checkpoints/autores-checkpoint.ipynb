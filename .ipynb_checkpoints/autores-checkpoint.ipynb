{
 "cells": [
  {
   "cell_type": "markdown",
   "metadata": {},
   "source": [
    "<h1 style=\"font-size:300%;font-family:verdana;color:navy;\">Autores:</h1>"
   ]
  },
  {
   "cell_type": "markdown",
   "metadata": {},
   "source": [
    "<table align=\"left\">\n",
    "  <tbody>\n",
    "    <tr>\n",
    "      <td style=\"width:200px\"> \n",
    "                 <img src=\"imagenes/fotos/alba.jpg\" class=\"img-circle\" width=\"200px\" height=\"200px\"> \n",
    "      </td>\n",
    "      <td style=\"text-align:left\">\n",
    "          <h1 style=\"font-size:300%;font-family:verdana;color:navy;\">Alba</h1>\n",
    "          <p style=\"font-size:150%;font-family:verdana;color:black;\">Hola, soy Alba Leila Leal, estudiante de psicología y colaboradora en la creación de nuevas metodologías docentes de la asignatura.</p>\n",
    "          <p style=\"font-size:150%;font-family:verdana;color:black;\"> Que la curiosidad os acompañe. </p\n",
    "      </td>\n",
    "    </tr>\n",
    "    <tr>\n",
    "  </tbody>\n",
    "</table>     \n"
   ]
  },
  {
   "cell_type": "markdown",
   "metadata": {},
   "source": [
    "<table align=\"left\">\n",
    "  <tbody>\n",
    "    <tr>\n",
    "      <td style=\"width:200px\">\n",
    "          <img src=\"imagenes/fotos/alex.jpg\" class=\"img-circle\" width=\"200px\" height=\"200px\"> \n",
    "      </td>\n",
    "      <td style=\"text-align:left\">\n",
    "          <h1 style=\"font-size:300%;font-family:verdana;color:navy;\">Alex</h1>\n",
    "          <p style=\"font-size:150%;font-family:verdana;color:black;\">“La ignorancia nos hace esclavos de la mentira, el conocimiento, cómplices de ella hasta que podamos desentrañar la verdad”</p>\n",
    "      </td>\n",
    "    </tr>\n",
    "    <tr>\n",
    "  </tbody>\n",
    "</table>     "
   ]
  },
  {
   "cell_type": "markdown",
   "metadata": {},
   "source": [
    "<table align=\"left\">\n",
    "  <tbody>\n",
    "    <tr>\n",
    "      <td style=\"width:200px\">\n",
    "          <img src=\"imagenes/fotos/juan.jpg\" class=\"img-circle\" width=\"200px\" height=\"200px\"> \n",
    "      </td>\n",
    "      <td style=\"text-align:left\">\n",
    "          <h1 style=\"font-size:300%;font-family:verdana;color:navy;\">Juan</h1>\n",
    "          <p style=\"font-size:150%;font-family:verdana;color:black;\">Integrante del desarrollo de la parte sobre el trabajo de los datos. Y he decir que es más sencillo hacerlo que explicarlo.</p\n",
    "      </td>\n",
    "    </tr>\n",
    "    <tr>\n",
    "  </tbody>\n",
    "</table>     "
   ]
  },
  {
   "cell_type": "markdown",
   "metadata": {},
   "source": [
    "<table align=\"left\">\n",
    "  <tbody>\n",
    "    <tr>\n",
    "      <td style=\"width:200px\">\n",
    "          <img src=\"imagenes/fotos/manuel.jpg\" class=\"img-circle\" width=\"200px\" height=\"200px\"> \n",
    "      </td>\n",
    "      <td style=\"text-align:left\">\n",
    "          <h1 style=\"font-size:300%;font-family:verdana;color:navy;\">Manuel</h1>\n",
    "          <p style=\"font-size:150%;font-family:verdana;color:black;\">Actualmente estudio psicología en la Universidad Complutense de Madrid, y me estoy especializando en el área de los recursos humanos. En el futuro, también me gustaría dedicarme a la investigación, al campo de las ciencias de datos y al desarrollo de sistemas de inteligencia artificial, de ahí mi interés por los lenguajes de programación. Además de R, estoy aprendiendo por mi cuenta a manejar otras herramientas, como BASH o Python.</p\n",
    "      </td>\n",
    "    </tr>\n",
    "    <tr>\n",
    "  </tbody>\n",
    "</table>  "
   ]
  },
  {
   "cell_type": "markdown",
   "metadata": {},
   "source": [
    "<table align=\"left\">\n",
    "  <tbody>\n",
    "    <tr>\n",
    "      <td style=\"width:200px\">\n",
    "          <img src=\"imagenes/fotos/maria.jpg\" class=\"img-circle\" width=\"200px\" height=\"200px\"> \n",
    "      </td>\n",
    "      <td style=\"text-align:left\">\n",
    "          <h1 style=\"font-size:300%;font-family:verdana;color:navy;\">María</h1>\n",
    "          <p style=\"font-size:150%;font-family:verdana;color:black;\">Me llamo María Gozalo y aunque ahora me vaya a dedicar a la Psicología Clínica (toquemos madera), en el pasado he estado trabajando en radio y me he dejado los dedos en varias redacciones. Me apasionan los juegos de estrategia/ingenio, el pastel de verduras de mi madre y todo lo relacionado con la naturaleza y los animales. Creo en el humor negro, blanco y de cualquier color y pienso que al atardecer, el mundo es un poco más bonito.</p>\n",
    "          <p style=\"font-size:150%;font-family:verdana;color:black;\"> Ah, soy de Ravenclaw. </p\n",
    "      </td>\n",
    "    </tr>\n",
    "    <tr>\n",
    "  </tbody>\n",
    "</table>     \n",
    "    \n"
   ]
  },
  {
   "cell_type": "markdown",
   "metadata": {},
   "source": [
    "***\n",
    "\n",
    "<div align=\"right\">\n",
    "  Enero de 2020 |\n",
    "  <a href=\"autores.ipynb\"> AUTORES <a>\n",
    "</div> "
   ]
  }
 ],
 "metadata": {
  "kernelspec": {
   "display_name": "Python 3",
   "language": "python",
   "name": "python3"
  },
  "language_info": {
   "codemirror_mode": {
    "name": "ipython",
    "version": 3
   },
   "file_extension": ".py",
   "mimetype": "text/x-python",
   "name": "python",
   "nbconvert_exporter": "python",
   "pygments_lexer": "ipython3",
   "version": "3.6.8"
  }
 },
 "nbformat": 4,
 "nbformat_minor": 2
}
