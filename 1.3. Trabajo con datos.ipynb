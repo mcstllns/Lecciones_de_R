{
 "cells": [
  {
   "cell_type": "markdown",
   "metadata": {},
   "source": [
    "<h1 style=\"font-size:300%;font-family:verdana;color:navy;\">LECCIÓN 1.3 </h1>\n",
    "<h1 style=\"font-size:150%;font-family:verdana;color:navy;\">Trabajo con datos</h1>\n",
    "    \n",
    "***"
   ]
  },
  {
   "cell_type": "markdown",
   "metadata": {},
   "source": [
    "\n",
    "# 1. Cómo cargar los datos en R\n",
    "\n",
    "Como en todo programa estadístico para poder hacer algún análisis primero tenemos que tener cargados nuestros datos. Vamos a empezar cargando los datos con los cuales vamos a trabajar en estas primeras lecciones, momento esencial, ya que sin materia prima difícil de conseguir nada. R puede trabajar con diferentes ficheros de datos pero en nuestro caso solo vamos a trabajar con archivos cuya extensión es .csv. Estos ficheros en realidad no son más que un fichero de textos en el que los valores están separados por una \",\" o un \";\". Probablemente sea el tipo de fichero de datos más sencillo y más común.\n",
    "\n",
    "La función que nos permite leer un fichero se llamada _read.csv()_, y podemos aprender más sobre ella escribiendo en el terminal de R \n",
    "\n",
    "```R\n",
    "    ?read.csv\n",
    "``` \n",
    "\n",
    "Fíjate en el siguiente comando de R\n",
    "\n",
    "```R\n",
    "    mydata <- read.csv(file=\"misdatos.csv\", header=TRUE, sep=\";\", dec =\",\")\n",
    "``` \n",
    "\n",
    "Lo que le estamos diciendo a R es: abre el fichero _misdatos.csv_ que está en el directorio de trabajo y guárdalo como un objeto llamado __mydata__. Este fichero de datos, tiene en la primera fila los nombres de las variables (header=TRUE), los campos están separados por un \";\" (sep=\";\") y el indicador para los decimales es la \",\" (dec =\",\").\n",
    "\n",
    "> Esto es un poco molesto, pero le ocurre a todos los programas de ordenador: En inglés el separador de campos es la \",\", y el decimal el \".\" pero en español se usa como separador de campo el \";\" y como decimal la \",\". Muchas veces tenemos que saber qué se está utilizando en el fichero para poder abrirlo adecuadamente.\n",
    "\n",
    "Recuerda que una vez cargados los datos estos no se ven en R, para visualizarlos tenemos que llamarles desde la consola escribiendo su nombre, por ejemplo:\n",
    "\n",
    "```R\n",
    "    mydata <- read.csv(file=\"misdatos.csv\", header=TRUE, sep=\";\", dec =\",\")\n",
    "    mydata\n",
    "``` \n",
    "\n",
    "\n",
    "__Ejercicio 1__: Sabiendo que utilizamos el sistema español (\";\" para separar campos y \",\" para decimales) importa el fichero llamado _basededatos.csv_ a un objeto llamado __misdatos__. Una vez importado visualizalo.\n",
    "\n",
    "> El fichero está guardado en una carpeta llamada datos, por lo que tenemos que incluir esa dirección en el nombre de la siguiente forma: __file = \"datos/basededatos.csv\"__\n"
   ]
  },
  {
   "cell_type": "code",
   "execution_count": 3,
   "metadata": {
    "scrolled": true
   },
   "outputs": [
    {
     "data": {
      "text/html": [
       "4"
      ],
      "text/latex": [
       "4"
      ],
      "text/markdown": [
       "4"
      ],
      "text/plain": [
       "[1] 4"
      ]
     },
     "metadata": {},
     "output_type": "display_data"
    }
   ],
   "source": [
    "# Introduce aquí el código (para ejecutarlo pulsa Ctr+Enter)\n",
    "\n",
    "2 +2"
   ]
  },
  {
   "cell_type": "markdown",
   "metadata": {},
   "source": [
    "Si has escrito adecuadamente el código te habrá aparecido en la pantalla algo similar a esto\n",
    "\n",
    "<img src=\"imagenes/1.3.datos.jpg\" style=\"width: 800px;\">\n",
    "\n",
    "Como ves, es similar a la \"rejilla\" de datos del SPSS. Ahora sabemos que los datos han sido adecuadamente cargados y están disponibles para trabajar con ellos."
   ]
  },
  {
   "cell_type": "markdown",
   "metadata": {},
   "source": [
    "# 2. Acceso a los datos en un data frame\n",
    "\n",
    "Una vez cargados necesitamos aprender cómo manejarnos con ellos, lo primero que podemos hacer es pedir un listado de los nombres de todas las variables que lo componen, para ello usamos la función _names()_\n",
    "\n",
    "```R\n",
    "    names(misdatos)\n",
    "``` \n",
    "\n",
    "Para acceder a una variable dentro de un data frame puedo utilizar el símbolo \"$\"; por ejemplo, para obtener los valores de la variables _Edad_ que pertenece al data frame _misdatos_ escribiría\n",
    "\n",
    "```R\n",
    "    misdatos$Edad\n",
    "``` \n",
    "\n",
    " Y, si queremos unos pequeños descriptivos de una variable podemos usar la funcción summary()\n",
    " \n",
    " ```R\n",
    "    summary(misdatos$Edad)\n",
    "``` \n",
    " \n",
    "__Ejercicio 2__: Pide unos descriptivos para la variable _CI_ que pertenece al data frame _misdatos_\n"
   ]
  },
  {
   "cell_type": "code",
   "execution_count": null,
   "metadata": {},
   "outputs": [],
   "source": [
    "# Introduce aquí el código (para ejecutarlo pulsa Ctr+Enter)\n",
    "\n"
   ]
  },
  {
   "cell_type": "markdown",
   "metadata": {},
   "source": [
    "Además de referirnos por su nombre también podemos referirnos a una variable por su posición, por ejemplo: la variable edad es la segunda variable, así que podríamos haber escrito\n",
    "\n",
    "```R\n",
    "    summary(misdatos[,2])\n",
    "``` \n",
    "\n",
    "Fíjate en esta forma de referirnos a las variables, es una notación matricial. En una matriz, por ejemplo llamada _matriz_, para referirnos a sus elementos utilizamos los corchetes: [fila, columna] y de igual manera con los data frame, fíjate en la siguiente sintaxis.\n",
    "\n",
    "> Recuerda que en un data frame las filas representan sujetos y las columnas variables\n",
    "\n",
    "\n",
    "```R\n",
    "    misdatos[1,1] # es el valor del primer sujeto en la primera variable\n",
    "    misdatos[1,5] # es el valor del primer sujeto en la variable 5\n",
    "    misdatos[5,1] # es el valor del quinto sujeto en la primera variable\n",
    "``` \n",
    "\n",
    "Es sencillo, el primer número es el sujeto y el segundo la variable. Ahora podemos ampliarlo un poco más\n",
    "\n",
    "```R\n",
    "    misdatos[,1] # TODOS LOS SUJETOS en la primera variable\n",
    "    misdatos[1,] # TODOS LAS VARIABLES para el primer sujeto\n",
    "```\n",
    "\n",
    "En R, cuando no queremos referirnos a un sujeto en particular quitamos el número y no ponemos nada delante de la coma, así le indicamos que queremos a todos los sujetos. Lo mismo hacemos para las variables.\n",
    "\n",
    "__Ejercicio 3:__\n",
    "\n",
    "* Obtén el valor para el sujeto 3 en la cuarta variable (Sexo)\n",
    "* Obtén los valores de todos los sujetos en la cuarta variable (Sexo)"
   ]
  },
  {
   "cell_type": "code",
   "execution_count": null,
   "metadata": {},
   "outputs": [],
   "source": [
    "# Introduce aquí el código (para ejecutarlo pulsa Ctr+Enter)\n",
    "\n"
   ]
  },
  {
   "cell_type": "markdown",
   "metadata": {},
   "source": [
    "Usando la forma matricial tenemos mucha versatilidad para seleccinar casos y variables, de nuevo fíjate en la sintaxis:\n",
    "\n",
    "```R\n",
    "    misdatos[,1:3] # TODOS LOS SUJETOS en las variables de la 1 a la 3\n",
    "    misdatos[1:500,] # TODOS LAS VARIABLES para los sujetos desde el 1 al 500\n",
    "```\n",
    "\n",
    "Utilizando los dos puntos \":\" puedo indicarle a R la variable (o sujeto) de inicio y la de final.\n",
    "\n",
    "Y si quisiese seleccionar solo algunas de las variables, pero no estan consecutivas (por ejemplo las variables 2, 4 y 7) podría usar lo siguiente, al igual que vimos en la lección anterior\n",
    "\n",
    "```R\n",
    "    misdatos[,c(2, 4, 7)] # TODOS LOS SUJETOS en las variables 2, 4 y 7\n",
    "```\n",
    "\n",
    "En realidad es bastante sencillo, pero se necesita un poco de práctica hasta sentirse cómodo con la nomenclatura. No te preocupes porque practicaremos en clases de prácticas.\n"
   ]
  },
  {
   "cell_type": "markdown",
   "metadata": {},
   "source": [
    "# 3. Crear una variable nueva en un data frame\n",
    "\n",
    "Es tan simple como poner el nombre de la variable que queramos con el valor que debe tener. Por ejemplo, si quiero introducir una variable llamada \"cero\", compuesta solo por ceros, en mi data frame llamado _misdatos_ solo tendría que hacer\n",
    "\n",
    "\n",
    "```R\n",
    "    misdatos$cero <- 0\n",
    "```\n",
    "\n",
    "Para comprobar que la variable ha sido cargada podemos visualizar sus datos\n",
    "\n",
    "\n",
    "```R\n",
    "    misdatos$cero\n",
    "```\n",
    "\n",
    "Podemos crear tantas variables como queramos, y estas pueden ser transformaciones de las variables anteriores, por ejemplo, vamos a crear una variable que sea la Edad multimplicada por 2\n",
    "\n",
    "```\n",
    "    misdatos$nuevaedad <- datos$Edad * 2\n",
    "```\n",
    "\n",
    "__Ejercicio 4:__ Crea en tu data frame una variable llamada sumaseveridad que sea la suma de las variables Severidad1, Severidad2 y Severidad3. Comprueba que la has calculado correctamente viendo su valores\n"
   ]
  },
  {
   "cell_type": "code",
   "execution_count": null,
   "metadata": {},
   "outputs": [],
   "source": [
    "# Introduce aquí el código (para ejecutarlo pulsa Ctr+Enter)\n",
    "\n"
   ]
  },
  {
   "cell_type": "markdown",
   "metadata": {},
   "source": [
    "# 4. Seleccionar sujetos y variables\n",
    "\n",
    "Cuando estamos analizando datos es muy común tener que crear un segundo conjunto de datos que contenga parte de los primeros. Por ejemplo, quiero hacer un análisis solamante con las mujeres, o de todas las variables del data frame solo necesito unas cuantas.\n",
    "\n",
    "En ambos casos, tanto si quiero seleccionar casos, como seleccionar sujetos, puedo usar la función _subset()_.\n",
    "\n",
    "Para seleccionar variables podríamos usar una sintaxis como la siguiente:\n",
    "\n",
    "```R\n",
    "    nuevosdatos <- subset(misdatos, select=c(Sexo, Edad))\n",
    "```\n",
    "Con esta sintaxis le estamos diciendo a R que construya un nuevo data frame llamado _nuevosdatos_ que contiene las variables Sexo y Edad almacenadas en él.\n",
    "\n",
    "Y para seleccionar sujetos usaríamos esta sintaxis:\n",
    "\n",
    "```R\n",
    "    madrid <- subset(misdatos, Poblacion==\"Madrid\")\n",
    "    jovenmadrid <- subset(misdatos, Poblacion==\"Madrid\" & Edad < 30)\n",
    "```\n",
    "En el primer caso hemos creado el data frame llamado _madrid_ que contiene solamente aquellos sujetos que en la variable _Poblacion_ tiene un valor igual \"Madrid. En el segundo creamos un data frame llamado _jovenmadrid_ que contiene aquellos que cumplen dos condiciones, ser de Madrid y tener en Edad menos de 30 años.\n",
    "\n",
    "> Se pueden usar los símbolos de comparación que vimos en la lección anterior (>, <, >=, <=, ==)\n",
    "\n",
    "Las dos acciones, seleccionar sujetos y seleccionar variables se pueden combinar en una única llamada a la función\n",
    "\n",
    "__Ejercicio 5:__ Del data frame datos selecciona a los sujeto mayores de 30 y que hayan nacido en Santander y crea con ellos un nuevo data frame llamado mayorsantander"
   ]
  },
  {
   "cell_type": "code",
   "execution_count": null,
   "metadata": {},
   "outputs": [],
   "source": [
    "# Introduce aquí el código (para ejecutarlo pulsa Ctr+Enter)\n",
    "\n"
   ]
  },
  {
   "cell_type": "markdown",
   "metadata": {},
   "source": [
    "***\n",
    "\n",
    "## Soluciones a los ejercicios:\n",
    "\n",
    "__Ejercicio 1:__\n",
    "```R\n",
    "    misdatos <- read.csv(file=\"datos/basededatos.csv\", header=TRUE, sep=\";\", dec =\",\")\n",
    "    misdatos\n",
    "```\n",
    "\n",
    " __Ejercicio 2:__\n",
    "```R\n",
    "    summary(misdatos$CI)\n",
    "```\n",
    "\n",
    "__Ejercicio 3:__\n",
    "```R\n",
    "    misdatos[3,4]\n",
    "    misdatos[,4]\n",
    "```\n",
    "\n",
    "__Ejercicio 4:__\n",
    "```\n",
    "    misdatos$sumaseveridad <- misdatos$Severidad1 + misdatos$Severidad2 + misdatos$Severidad3\n",
    "    misdatos$sumaseveridad\n",
    "```\n",
    "\n",
    "__Ejercicio 5:__\n",
    "```R\n",
    "    mayorsantander <- subset(misdatos, Poblacion==\"Santander\" & Edad > 30)\n",
    "    mayorsantander\n",
    "```"
   ]
  },
  {
   "cell_type": "markdown",
   "metadata": {},
   "source": [
    "***\n",
    "\n",
    "<div align=\"right\">\n",
    "  Enero de 2019 |\n",
    "  <a href=\"autores.html\"> AUTORES <a>\n",
    "</div> \n"
   ]
  }
 ],
 "metadata": {
  "kernelspec": {
   "display_name": "R",
   "language": "R",
   "name": "ir"
  },
  "language_info": {
   "codemirror_mode": "r",
   "file_extension": ".r",
   "mimetype": "text/x-r-source",
   "name": "R",
   "pygments_lexer": "r",
   "version": "3.4.3"
  }
 },
 "nbformat": 4,
 "nbformat_minor": 2
}
