{
 "cells": [
  {
   "cell_type": "markdown",
   "metadata": {},
   "source": [
    "<h1 style=\"font-size:300%;font-family:verdana;color:navy;\">LECCIÓN 2.2. </h1>\n",
    "<h1 style=\"font-size:150%;font-family:verdana;color:navy;\">CONTRASTE DE HIPÓTESIS </h1>\n",
    "    \n",
    "***"
   ]
  },
  {
   "cell_type": "markdown",
   "metadata": {},
   "source": [
    "# 1. Introducción \n",
    "\n",
    "En la ciencia trabajamos constantemente con hipótesis, que no son otra cosa que posibles explicaciones para los hechos que queremos entender, por lo que la Psicología, por supuesto, no iba a ser menos, y también las utiliza. Ahora bien, no todas las hipótesis que formulemos van a ser correctas, en muchas de ellas nos equivocaremos, incluso a veces puede interesarnos comprobar si una hipótesis que creemos falsa de verdad lo es (falseamiento) para poder descartarla rápidamente. \n",
    "\n",
    "Para ayudarnos en este proceso de contraste de hipótesis R resulta fundamental.\n",
    "\n",
    "## La importancia del p-valor\n",
    "\n",
    "No podemos detenernos en volver a explicar en profundidad el significado de un contraste de hipótesis. Quien necesite refrescar estos conceptos puede acudir a los materiales que utilizasteis en vuestras asignaturas de estadística, o a los manuales clásicos. En cualquier caso, una definición breve, pero medianamente clara, podría ser la siguiente:\n",
    "\n",
    "> un contraste de hipótesis es un proceso de decisión en el que una hipótesis formulada en términos estadísticos es puesta en relación con los datos empíricos para determinar si es o no compatible con ellos.\n",
    "\n",
    "Simplificando hasta el infinito (y más allá), lo fundamental para poder contrastar una hipótesis es entender el concepto de _p_valor_ (o nivel crítico), que básicamente __es la probabilidad de obtener el resultado que hemos obtenido suponiendo que la hipótesis nula ($H_0$) fuera cierta__, es decir, nos indica cómo de plausible es nuestra $H_0$. \n",
    "\n",
    "De esta forma, y suponiendo que queremos un nivel de significación de 0,05 (una probabilidad del 5% de equivocarnos rechazando la H0 siendo esta verdadera) podemos establecer la siguiente regla:\n",
    "\n",
    "* Si es mayor o igual que 0,05 mantenemos la hipótesis nula \n",
    "* Si es menor que 0,05 rechazamos la hipótesis nula\n",
    "\n",
    "Esta manera de decidir posiblemente sea una forma horrible de analizar datos, como os habrán insistido todos vuestros profesores de estadística, pero es la que vamos a utilizar porque supone una simplificación cómoda, y es el estándar utilizado en publicaciones científicas.\n",
    "\n",
    "Empezamos a trabajar importando el fichero de _basededatos.csv_ como en las lecciones anteriores\n",
    "\n",
    "```R\n",
    "  datos <- read.csv(file=\"datos/basededatos.csv\", header=TRUE, sep=\";\", dec =\",\")\n",
    "``` \n",
    "\n",
    "\n",
    "__Ejercicio 1:__ Importa el fichero _basededatos.csv_\n",
    "\n"
   ]
  },
  {
   "cell_type": "code",
   "execution_count": null,
   "metadata": {},
   "outputs": [],
   "source": [
    "# Introduce aquí el código (para ejecutarlo pulsa Ctr+Enter)\n"
   ]
  },
  {
   "cell_type": "markdown",
   "metadata": {},
   "source": [
    "# 2. Contrastes sobre medias\n",
    "\n",
    "## 2.1. Prueba t para una muestra\n",
    "\n",
    "Pone a prueba $H_0: \\mu=\\mu_0$; es decir, que la media de la población es igual a un valor arbitrario que llamamos $\\mu_0$. No es un contraste muy utilizado, salvo en casos concretos donde tengamos hipótesis científicas muy fuertes sobre la media de la población. Se lleva a cabo con la función _t.test()_. \n",
    "\n",
    "Por ejemplo, vamos a poner a prueba la hipótesis nula de que la media de edad de nuestros sujetos es igual a 20 años $H_0: \\mu=20$. \n",
    "\n",
    "Antes de llevar a cabo el contraste podemos complementarlo con lo estudiado en las lecciones anteriores, para describir la variable Edad\n",
    "\n",
    "```\n",
    "  hist(datos$edad)                  # un histograma \n",
    "  qqnorm(datos$edad)                # un qqplot para comprobarlo visualmente \n",
    "  qqline(datos$edad)\n",
    "``` \n",
    "\n",
    "Y despues realizar el contraste con la función t.test()\n",
    "\n",
    "```R\n",
    "  t.test(datos$edad, mu=20)\n",
    "``` \n",
    "\n",
    "\n",
    "__Ejercicio 2:__ Pon a prueba la hipótesis de que la media de Edad en nuestros datos es igual a 20"
   ]
  },
  {
   "cell_type": "code",
   "execution_count": null,
   "metadata": {},
   "outputs": [],
   "source": [
    "# Introduce aquí el código (para ejecutarlo pulsa Ctr+Enter)\n"
   ]
  },
  {
   "cell_type": "markdown",
   "metadata": {},
   "source": [
    "Si has hecho el análisis habrás obtenido un resultado como el siguiente:\n",
    "\n",
    "```\n",
    "\tOne Sample t-test\n",
    "\n",
    "data:  datos$Edad\n",
    "t = 38.683, df = 526, p-value < 2.2e-16\n",
    "alternative hypothesis: true mean is not equal to 20\n",
    "95 percent confidence interval:\n",
    " 43.01171 45.47405\n",
    "sample estimates:\n",
    "mean of x \n",
    " 44.24288 \n",
    "```\n",
    "\n",
    "La salida nos da toda la información que necesitamos para interpretar el contraste. Vamos a ver su significado en detalle solo en esta salida, porque el resto son similares.\n",
    "\n",
    "1. La media de la edad en la muestra ha sido 44.28\n",
    "2. El valor del estadístico de contraste t: 38.68\n",
    "3. Los grados de libertad: 526\n",
    "4. El p-valor: < 0.000 (es notación exponencial, equivale a $2.2 * 10^{-16}$, o lo que es lo mismo 16 ceros y luego un 2)\n",
    "5. El valor del Intervalo de Confianza para la media: 43.01 - 45.47\n",
    "\n",
    "__Ejercicio 3:__ Pon a prueba si la media en CI es igual a 100"
   ]
  },
  {
   "cell_type": "code",
   "execution_count": null,
   "metadata": {},
   "outputs": [],
   "source": [
    "# Introduce aquí el código (para ejecutarlo pulsa Ctr+Enter)\n"
   ]
  },
  {
   "cell_type": "markdown",
   "metadata": {},
   "source": [
    "Si has realizado correctamente el contraste habrás comprobado que la media de CI es 122.24, rechazando la $H_0$"
   ]
  },
  {
   "cell_type": "markdown",
   "metadata": {},
   "source": [
    "## 2.2. Prueba t para muestras independientes\n",
    "\n",
    "\n",
    "Pone a prueba $H_0: \\mu_1 = \\mu_2$, es decir, las medias de dos poblaciones son iguales. Importante: además de los supuestos habituales este requiere _homocedasticidad_ (igualdad de las varianzas de las dos poblaciones). El programa SPSS realiza ambos contrastes a la vez pero en R hay que comprobarlo con un contraste previo. Es necesario saber la opción adecuada (si hay o no homocedasticidad) porque su incumplimiento nos obliga a corregir los grados de libertad. Ejemplo: Vamos a comprobar si la edad  de hombres y mujeres es la misma.\n",
    "\n",
    "Y llevamos a cabo el contraste usando la misma función _t.test()_ pero ahora con distintos argumentos.\n",
    "\n",
    "```\n",
    "  t.test(datos$Edad ~ datos$Sexo)\n",
    "``` \n",
    "\n",
    "Esta nueva forma de sintaxis es lo que se llama una fórmula en R y es muy utilizada. Simplemente es una forma de expresar las relaciones entre las variables (como una ecuación) en la que la variable a la izquierda de símbolo _~_ es la variable dependiente o explicada y a la derecha es la variable independiente o explicadora. Más adelante volverá a aparecer, ahora simplemente la leeremos como \"la variable Edad depende de la variable Sexo\". El símbolo ~ se llama _cíngula_ en español y se encuentra en la tecla 4 pulsando las teclas __ALT GR + 4__.\n",
    "\n",
    "La interpretación del análisis es similar al caso anterior, __aceptando__ la $H_0$ de que las medias son iguales.\n",
    "\n",
    "Por defecto, la función _t.test()_, en el caso de muestras independientes, considera que las varianzas de ambos grupos no son iguales. Esto es lo más seguro, ya que en caso de no ser iguales se lleva una corrección de los grados de libertad (volviéndonos más conservadores) en función del grado de desviación en la igualdad (cuanto mayor desviación mayor corrección). Lo más correcto sería comprobar previamente si es así realmente usando la función _var.test()_\n",
    "\n",
    "```\n",
    "  var.test(datos$Edad ~ datos$Sexo)\n",
    "``` \n",
    "\n",
    "En este caso la hipótesis nula que establecemos es que las varianzas son iguales $H_0: \\sigma_1 = \\sigma_2$ y para nuestro análisis aceptamos la hipótesis nula con una p = 0.7679\n",
    "\n",
    "Sabiendo que las varianzas son iguales lo más oportuno sería repetir el análisis de las medias, indicando ahora que no queremos que se realice la corrección por falta de cumplimiento del supuesto de igualdad de varianzas\n",
    "\n",
    "\n",
    "```\n",
    "  t.test(datos$belleza ~ datos$sexo, var.equal=TRUE)\n",
    "``` \n",
    "\n",
    "__Ejercicio 4:__ Pon a prueba un contraste (comprobando primero si las varianzas son iguales o no) que comprueba si el CI es igual para hombres y mujeres"
   ]
  },
  {
   "cell_type": "code",
   "execution_count": null,
   "metadata": {},
   "outputs": [],
   "source": [
    "# Introduce aquí el código (para ejecutarlo pulsa Ctr+Enter)\n"
   ]
  },
  {
   "cell_type": "markdown",
   "metadata": {},
   "source": [
    "Si has hecho el análisis correctamente habrás encontrado que las vrianzas son iguales (p=0.621) y que las medias también lo son (p=0.4478)"
   ]
  },
  {
   "cell_type": "markdown",
   "metadata": {},
   "source": [
    "## 2.3. Prueba t para muestras relacionadas\n",
    "\n",
    "\n",
    "Al igual que la anterior pone a prueba $H_0: \\mu_1 = \\mu_2$ pero ahora las medias provienen de la misma población en dos mediciones distintas. Es una situación de medidas repetidas. Este análisis no exige _homocedasticidad_ por lo que no es necesario el contraste previo para la igualdad de varianzas. Ejemplo: Vamos a comparar si las medias de Severidad1 y Severidad2 son iguales.\n",
    "\n",
    "```\n",
    "      \n",
    "  t.test(datos$Severidad1, datos$Severidad2, paired=TRUE) # el contraste para diferencia de medias\n",
    "\n",
    "``` \n",
    "\n",
    "Como se puede ver el contraste no es significativo (p=0.0981), es decir, interpretamos que no hay diferencias entre ellas.\n",
    "\n",
    "__Ejercicio 5:__ Comprueba si hay diferencias significativas entre las variables Ansiedad y Estres"
   ]
  },
  {
   "cell_type": "code",
   "execution_count": null,
   "metadata": {},
   "outputs": [],
   "source": [
    "# Introduce aquí el código (para ejecutarlo pulsa Ctr+Enter)\n"
   ]
  },
  {
   "cell_type": "markdown",
   "metadata": {},
   "source": [
    "Debes haber rechazado la $H_0$ con un p-valor < 0.000 y con un valor de t = 4.4635"
   ]
  },
  {
   "cell_type": "markdown",
   "metadata": {},
   "source": [
    "# 3. Contrastes sobre la igualdad de varianzas\n",
    "\n",
    "Se suelen utilizar para comprobar los supuestos de homocedasticidad, se dispone de las siguientes opciones.\n",
    "\n",
    "## 3.1. Test F para dos varianzas muestras independientes\n",
    "\n",
    "Contrasta $H_0: \\sigma_1 / \\sigma_2 = 1$, lo que equivale a comprobar si son iguales. Las dos varianzas provienen de dos grupos de sujetos distintos. Ejemplo: Ya lo vimos para comprobar si se cumplía la homocedasticidad en el ejemplo para la t para muestras independientes.\n",
    "\n",
    "```\n",
    "  var.test(datos$Edad ~ datos$Sexo)\n",
    "``` \n",
    "\n",
    "## 3.2. Test F para dos varianzas muestras relacionadas\n",
    "\n",
    "Similar al anterior pero para una situación de medidas repetidas. Por ejemplo contrastamos si las varianzas de Severidad1 y Severidad2 son iguales\n",
    "\n",
    "```\n",
    "  var.test(datos$Severidad1, datos$Severidad2)\n",
    "``` \n",
    "\n",
    "__Ejercicio 6:__ Comprueba si las varianzas para Ansiedad y Estres son iguales"
   ]
  },
  {
   "cell_type": "code",
   "execution_count": null,
   "metadata": {},
   "outputs": [],
   "source": [
    "# Introduce aquí el código (para ejecutarlo pulsa Ctr+Enter)\n"
   ]
  },
  {
   "cell_type": "markdown",
   "metadata": {},
   "source": [
    "Has tenido que aceptar la $H_0$ con p-valor = 0.01279"
   ]
  },
  {
   "cell_type": "markdown",
   "metadata": {},
   "source": [
    "# 4. Otros contrastes relevantes\n",
    "\n",
    "## 4.1. Contraste sobre la normalidad\n",
    "\n",
    "Este es uno de los contrastes más comunes, ya que resulta muy útil conocer si la variable con la que estamos trabajando sigue una distribución normal. Hay multitud de análisis de normalidad que podemos utilizar pero por comodidad usaremos el de Shapiro-Wilk, para ello solo tendremos que aplicar la función _shapiro.test()_. Por ejemplo, para comprobar que la Edad sigue una distribución normal\n",
    "\n",
    "```R\n",
    "     shapiro.test(datos$Edad)\n",
    "```\n",
    "\n",
    "Como hemos obtenido un p-valor de 4.328e-12 tenemos que rechazar que la edad siga una distribución normal\n",
    "\n",
    "## 4.2. Contraste sobre la correlación\n",
    "\n",
    "Contrasta si la correlación entre dos variables es igual a cero, en principio no es muy interesante porque depende mucho del tamaño de la muestra. En contextos específicos como la regresión lineal sí son comúnmente utilizados. La hipótesis que se pone a prueba es $H_0: \\rho = 0$. Por ejemplo, contrastamos si la relación entre Severidad1 y Severidad2 es igual a cero\n",
    "\n",
    "\n",
    "```\n",
    "  plot(datos$Severidad1, datos$Severidad2)  # primero un grafico para interpretar mejor\n",
    "  cor.test(datos$Severidad1, datos$Severidad2) # y ahora el contraste\n",
    "``` \n",
    "  \n",
    "__Ejercicio 7:__ Comprueba el supuesto de normalidad de la variable CI y contrasta que la correlación entre Ansiedad y Estres es igual a 0."
   ]
  },
  {
   "cell_type": "code",
   "execution_count": null,
   "metadata": {},
   "outputs": [],
   "source": [
    "# Introduce aquí el código (para ejecutarlo pulsa Ctr+Enter)\n"
   ]
  },
  {
   "cell_type": "markdown",
   "metadata": {},
   "source": [
    "Has tenido que encontrar que el CI no es normal y que la correlación entre Ansiedad y Estres es distinta a 0"
   ]
  },
  {
   "cell_type": "markdown",
   "metadata": {},
   "source": [
    "***\n",
    "\n",
    "## Soluciones a los ejercicios:\n",
    "\n",
    "__Ejercicio 1:__\n",
    "```\n",
    "    datos <- read.csv(file=\"datos/basededatos.csv\", header=TRUE, sep=\";\", dec =\",\")\n",
    "    datos\n",
    "```\n",
    "\n",
    " __Ejercicio 2:__\n",
    "```R\n",
    "    t.test(datos$Edad, mu=20)\n",
    "```\n",
    "\n",
    "__Ejercicio 3:__\n",
    "```R\n",
    "    t.test(datos$CI, mu=100)\n",
    "```\n",
    "\n",
    "__Ejercicio 4:__\n",
    "```\n",
    "    var.test(datos$CI ~ datos$Sexo) \n",
    "    t.test(datos$CI ~ datos$Sexo, var.equal=TRUE)\n",
    "```\n",
    "\n",
    "__Ejercicio 5:__\n",
    "```\n",
    "    t.test(datos$Ansiedad, datos$Estres, paired=TRUE)\n",
    "```\n",
    "\n",
    "__Ejercicio 6:__\n",
    "```\n",
    "    var.test(datos$Ansiedad, datos$Estres)\n",
    "```\n",
    "\n",
    "__Ejercicio 7:__\n",
    "```\n",
    "    shapiro.test(datos$CI)\n",
    "    cor.test(datos$Ansiedad, datos$Estres)\n",
    "```"
   ]
  },
  {
   "cell_type": "markdown",
   "metadata": {},
   "source": [
    "***\n",
    "\n",
    "<div align=\"right\">\n",
    "  Enero de 2019 |\n",
    "  <a href=\"autores.html\"> AUTORES <a>\n",
    "</div> \n"
   ]
  }
 ],
 "metadata": {
  "kernelspec": {
   "display_name": "R",
   "language": "R",
   "name": "ir"
  },
  "language_info": {
   "codemirror_mode": "r",
   "file_extension": ".r",
   "mimetype": "text/x-r-source",
   "name": "R",
   "pygments_lexer": "r",
   "version": "3.4.3"
  }
 },
 "nbformat": 4,
 "nbformat_minor": 2
}
