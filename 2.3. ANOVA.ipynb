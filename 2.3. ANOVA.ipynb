{
 "cells": [
  {
   "cell_type": "markdown",
   "metadata": {},
   "source": [
    "<h1 style=\"font-size:300%;font-family:verdana;color:navy;\">LECCIÓN 2.3. </h1>\n",
    "<h1 style=\"font-size:150%;font-family:verdana;color:navy;\">ANÁLISIS DE VARIANZA (ANOVA)</h1>\n",
    "    \n",
    "***"
   ]
  },
  {
   "cell_type": "markdown",
   "metadata": {},
   "source": [
    "Los Análisis de Varianza son técnicas estadísticas que se utilizan para comparar medias cuando tenemos más de dos poblaciones o más de dos mediciones.\n",
    "\n",
    "Como en lecciones anteriores, antes de empezar carga los datos guardados en _basededatos.csv_\n",
    "\n",
    "```R\n",
    "  datos <- read.csv(file=\"datos/basededatos.csv\", header=TRUE, sep=\";\", dec =\",\")\n",
    "``` \n",
    "\n",
    "__Ejercicio 1:__ Importa el fichero _basededatos.csv_"
   ]
  },
  {
   "cell_type": "code",
   "execution_count": null,
   "metadata": {},
   "outputs": [],
   "source": [
    "# Introduce aquí el código (para ejecutarlo pulsa Ctr+Enter)\n",
    "\n"
   ]
  },
  {
   "cell_type": "markdown",
   "metadata": {},
   "source": [
    "\n",
    "# 1. Análisis de varianza para muestras independientes\n",
    "A diferencia de otros programas como el SPSS, que en la salida te dan toda la información que puede considerarse relevante, en R esto no ocurre. Cada una de los análisis que se necesitan se debe calcular por separado.\n",
    "\n",
    "Pone a prueba $H_0: \\mu_1 = \\mu_2 = ... = \\mu_k$, siendo k el número de grupos distintos. Es el ANOVA I para muestras independientes de toda la vida. La comprobación de los supuestos, y las comparaciones multiples _posthoc_, en caso de ser necesarias, se deben calcular llamando a otras funciones\n",
    "\n",
    "```R\n",
    "  m1 <- aov(CI ~ Trastorno, data=datos)\n",
    "  summary(m1)\n",
    "``` \n",
    "En la sintaxis anterior primero realizamos el Anova del CI por el Trastorno y después le pedimos que nos muestre los resultados. \n",
    "\n",
    "Los resultados serán similares a estos\n",
    "\n",
    "```\n",
    "             Df Sum Sq Mean Sq F value  Pr(>F)   \n",
    "Trastorno     2   2164  1082.2    5.78 0.00329 **\n",
    "Residuals   524  98113   187.2                   \n",
    "---\n",
    "Signif. codes:  0 '***' 0.001 '**' 0.01 '*' 0.05 '.' 0.1 ' ' 1\n",
    "``` \n",
    "\n",
    "Aunque mucho más escueto que un análisis del SPSS la información clave es la misma, rechazamos la $H_0$ y establecemos que hay diferencias en CI para los distintos tipos de trastorno porque el p-valor = 0.00329\n",
    "\n",
    "Una vez rechazada la  $H_0$ para realizar unas comparaciones múltiples tenemos muchas opciones, entre ellas los contrastes a posteriori de Tuckey, con su correspondiente gráfico o las comparaciones de bonferroni\n",
    "\n",
    "```\n",
    "  TukeyHSD(m1)\n",
    "  pairwise.t.test(datos$CI, datos$Trastorno, p.adjust=\"bonferroni\")\n",
    "``` \n",
    "\n",
    "__Ejercicio 2:__ Comprueba si hay efecto del tipo de Trastorno sobre la Ansiedad y en caso de ser así realiza los contrastes a posteriori que consideres adecuados"
   ]
  },
  {
   "cell_type": "code",
   "execution_count": null,
   "metadata": {},
   "outputs": [],
   "source": [
    "# Introduce aquí el código (para ejecutarlo pulsa Ctr+Enter)\n"
   ]
  },
  {
   "cell_type": "markdown",
   "metadata": {},
   "source": [
    "Sí hay efecto del Trastorno en la Ansiedad (p < 0.001) y las comparaciones mútiples muestran que se debe a las diferencias de los diagnosticados con Depresion frente a los otros dos grupos (TOC y Control)."
   ]
  },
  {
   "cell_type": "markdown",
   "metadata": {},
   "source": [
    "## 2. ANOVA de múltiples factores para muestras independientes\n",
    "\n",
    "La sintaxis para una análisis de varios factores es similar a la anterior, solo hay que modificar la formula añadiendo los términos que necesitemos\n",
    "\n",
    "```R\n",
    "  m1 <- aov(CI ~ Trastorno * Sexo, data=datos)\n",
    "  summary(m1)\n",
    "``` \n",
    "Fíjate cómo introducimos una nueva variable en el análisis (__* Sexo__), obteniendo los siguientes resultados:\n",
    "\n",
    "```\n",
    "                Df Sum Sq Mean Sq F value  Pr(>F)   \n",
    "Trastorno        2   2164  1082.2   5.760 0.00335 **\n",
    "Sexo             1     80    79.6   0.424 0.51537   \n",
    "Trastorno:Sexo   2    149    74.3   0.396 0.67352   \n",
    "Residuals      521  97885   187.9                   \n",
    "---\n",
    "Signif. codes:  0 '***' 0.001 '**' 0.01 '*' 0.05 '.' 0.1 ' ' 1\n",
    "\n",
    "```\n",
    "\n",
    "Hemos obtenido diferencias significativas para el Trastorno (p = 0.00335), pero no para la variable Sexo (p=0.51537) ni para la interacción del Trastorno por el Sexo (p=0.67352).\n",
    "\n",
    "Si necesitásemos realizar contrastes múltiples podemos utilizar la sintaxis anterior, por ejemplo:\n",
    "\n",
    "Podríamos calcular los contrastes posthoc para las variables que fuesen necesarias\n",
    "\n",
    "```\n",
    "   pairwise.t.test(datos$CI, datos$Trastorno, p.adjust=\"bonferroni\")\n",
    "``` \n",
    "\n",
    "__Ejercicio 3:__ Comprueba si hay efecto del tipo de Trastorno y el Sexo sobre la Ansiedad y en caso de ser así realiza los contrastes a posteriori que consideres adecuados"
   ]
  },
  {
   "cell_type": "code",
   "execution_count": null,
   "metadata": {},
   "outputs": [],
   "source": [
    "# Introduce aquí el código (para ejecutarlo pulsa Ctr+Enter)\n"
   ]
  },
  {
   "cell_type": "markdown",
   "metadata": {},
   "source": [
    "Has tenido que encontrar que todos los efectos (el Trastorno, el Sexo y su interacción) son significativos. Los resultados para el Trastorno son identicos al análisis visto en el punto anterior y para Sexo no es necesario calcular _posthoc_ ya que como hay solamente dos grupos las diferencias necesariamente será entre ellos. La interpretación de la interacción supone cierta dificultad por lo que lo dejaremos a parte."
   ]
  },
  {
   "cell_type": "markdown",
   "metadata": {},
   "source": [
    "***\n",
    "## Soluciones a los ejercicios:\n",
    "***\n",
    " \n",
    "\n",
    "<details>\n",
    "<summary> Click para ver las soluciones </summary>\n",
    "\n",
    "__Ejercicio 1:__\n",
    "```\n",
    "    datos <- read.csv(file=\"datos/basededatos.csv\", header=TRUE, sep=\";\", dec =\",\")\n",
    "    datos\n",
    "```\n",
    "\n",
    " __Ejercicio 2:__\n",
    "```\n",
    "    m1 <- aov(Ansiedad ~ Trastorno, data=datos)\n",
    "    summary(m1)\n",
    "\n",
    "    pairwise.t.test(datos$CI, datos$Trastorno, p.adjust=\"bonferroni\")\n",
    "```\n",
    "\n",
    "__Ejercicio 3:__\n",
    "```\n",
    "    m1 <- aov(Ansiedad ~ Trastorno * Sexo, data=datos)\n",
    "    summary(m1)\n",
    "\n",
    "    pairwise.t.test(datos$CI, datos$Trastorno, p.adjust=\"bonferroni\")\n",
    "    pairwise.t.test(datos$CI, datos$Sexo, p.adjust=\"bonferroni\")\n",
    "```\n",
    "</details>"
   ]
  },
  {
   "cell_type": "markdown",
   "metadata": {},
   "source": [
    "***\n",
    "\n",
    "<div align=\"right\">\n",
    "  Enero de 2020 |\n",
    "  <a href=\"autores.ipynb\"> AUTORES <a>\n",
    "</div> \n"
   ]
  }
 ],
 "metadata": {
  "kernelspec": {
   "display_name": "R",
   "language": "R",
   "name": "ir"
  },
  "language_info": {
   "codemirror_mode": "r",
   "file_extension": ".r",
   "mimetype": "text/x-r-source",
   "name": "R",
   "pygments_lexer": "r",
   "version": "3.6.1"
  }
 },
 "nbformat": 4,
 "nbformat_minor": 2
}
